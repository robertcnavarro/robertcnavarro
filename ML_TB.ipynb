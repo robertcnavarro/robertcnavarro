{
 "cells": [
  {
   "cell_type": "code",
   "execution_count": 1,
   "metadata": {},
   "outputs": [],
   "source": [
    "#installar packages\n",
    "import re\n",
    "import pandas as pd\n",
    "import pandas_profiling\n",
    "import numpy as np\n",
    "import seaborn as sns\n",
    "import numpy as np\n",
    "import catboost\n",
    "from catboost import CatBoostClassifier\n",
    "import phik\n",
    "from phik import resources, report\n",
    "from sklearn.model_selection import train_test_split\n",
    "from sklearn.linear_model import LogisticRegression\n",
    "from sklearn.metrics import classification_report\n",
    "from sklearn.metrics import confusion_matrix,accuracy_score\n",
    "from sklearn.metrics import roc_curve, roc_auc_score\n",
    "from catboost import CatBoostClassifier\n",
    "#https://www.datacamp.com/community/tutorials/decision-tree-classification-python\n",
    "#https://scikit-learn.org/stable/modules/generated/sklearn.tree.DecisionTreeClassifier.html\n",
    "from sklearn.tree import DecisionTreeClassifier # Import Decision Tree Classifier\n",
    "from sklearn.model_selection import train_test_split # Import train_test_split function\n",
    "from sklearn import metrics #Import scikit-learn metrics module for accuracy calculation\n",
    "#https://www.datacamp.com/community/tutorials/random-forests-classifier-python?utm_source=adwords_ppc&utm_medium=cpc&utm_campaignid=1455363063&utm_adgroupid=65083631748&utm_device=c&utm_keyword=&utm_matchtype=&utm_network=g&utm_adpostion=&utm_creative=278443377086&utm_targetid=aud-299261629574:dsa-429603003980&utm_loc_interest_ms=&utm_loc_physical_ms=1001765&gclid=Cj0KCQiAu62QBhC7ARIsALXijXTgLcXo7tj8eRaMiTw76g-_f7Kq5ZFURGBx3i3VOL3Vnuy8RR6dduUaAlMwEALw_wcB\n",
    "#Import Random Forest Model\n",
    "from sklearn.ensemble import RandomForestClassifier\n",
    "#Create a Gaussian Classifier\n",
    "#clf=RandomForestClassifier(n_estimators=100)\n",
    "#Import scikit-learn metrics module for accuracy calculation\n",
    "from sklearn import metrics\n",
    "#https://www.analyticsvidhya.com/blog/2021/01/a-quick-introduction-to-k-nearest-neighbor-knn-classification-using-python/\n",
    "import tensorflow as tf\n",
    "#Encoding Categorical Variable Gender\n",
    "from sklearn.preprocessing import LabelEncoder\n",
    "#Encoding Categorical variable Geography\n",
    "from sklearn.compose import ColumnTransformer\n",
    "from sklearn.preprocessing import OneHotEncoder\n",
    "import numpy as np\n",
    "import matplotlib.pyplot as plt"
   ]
  },
  {
   "cell_type": "code",
   "execution_count": 2,
   "metadata": {},
   "outputs": [
    {
     "name": "stdout",
     "output_type": "stream",
     "text": [
      "<class 'pandas.core.frame.DataFrame'>\n",
      "RangeIndex: 5966 entries, 0 to 5965\n",
      "Columns: 182 entries, SEX_F to COMORBIDITY_smoking\n",
      "dtypes: int64(182)\n",
      "memory usage: 8.3 MB\n"
     ]
    }
   ],
   "source": [
    "#df = pd.read_excel(r'/media/lbcb/Roberton/elkin /articulo_ tuberculosis /new_Calculs/imagenens/dfdumies_2.xlsx', sheet_name='Sheet3')\n",
    "df = pd.read_excel(r'/media/lbcb/Roberton/elkin /articulo_ tuberculosis /new_Calculs/imagenens/dfdumies_2.xlsx')\n",
    "df.info()"
   ]
  },
  {
   "cell_type": "code",
   "execution_count": 3,
   "metadata": {},
   "outputs": [
    {
     "data": {
      "text/plain": [
       "array(['SEX_F', 'SEX_M', 'ETHNIC_AFROCOLOMBIANO', 'ETHNIC_DESPLAZADO',\n",
       "       'ETHNIC_INDIGENA', 'ETHNIC_MESTIZO', 'ETHNIC_OTROS',\n",
       "       'NEIGHBORHOOD_AREA CENTRO', 'NEIGHBORHOOD_AREA SUR',\n",
       "       'NEIGHBORHOOD_METROPOLITANA',\n",
       "       'NEIGHBORHOOD_Norte Centro Historico', 'NEIGHBORHOOD_RIOMAR',\n",
       "       'NEIGHBORHOOD_SOLEDAD', 'NEIGHBORHOOD_SUIRORIENTE',\n",
       "       'NEIGHBORHOOD_SUROCCIDENTE', 'NEIGHBORHOOD_SURORIENTE',\n",
       "       'REGIME_Contributivo', 'REGIME_ESPECIAL', 'REGIME_NO AFILIADO',\n",
       "       'REGIME_S-SUBSIDIADO', 'EAPB_ ASMET SALUD', 'EAPB_ COMPARTA',\n",
       "       'EAPB_ COOSALUD E.S.S.', 'EAPB_ EMDISALUD ESS',\n",
       "       'EAPB_A.R.S. CONVIDA / EPS022 / SBS', 'EAPB_ALIANSALUD EPS',\n",
       "       'EAPB_AMBUQ', 'EAPB_AMBUQ ESS', 'EAPB_ANASWAYUU',\n",
       "       'EAPB_ANASWAYUU EPSI / EPSI04 / SBS', 'EAPB_ARMADA NACIONAL',\n",
       "       'EAPB_ASMET', 'EAPB_ASMET SALUD',\n",
       "       'EAPB_ASOCIACIÓN INDÍGENA DEL CAUCA - AIC / EPSI03 / SBS',\n",
       "       'EAPB_ASOCIACIÓN INDÍGENA DEL CESAR Y LA GUAJIRA - DUSAKAWI / EPSI01 / SBS',\n",
       "       'EAPB_ATIENTE HOSP GENERAL', 'EAPB_AVAL DE DESPLAZADO',\n",
       "       'EAPB_CAFABA', 'EAPB_CAFAM EPS', 'EAPB_CAFESALUD',\n",
       "       'EAPB_CAFESALUD E.P.S. S.A.', 'EAPB_CAFESALUD EPS SA',\n",
       "       'EAPB_CAJA DE COMPENSACIÓN FAMILIAR DE LA GUAJIRA - COMFAGUAJIRA / CCF023 / SBS',\n",
       "       'EAPB_CAJA PREVISION SOC', 'EAPB_CAJACOPI', 'EAPB_CAJANAL',\n",
       "       'EAPB_CAPITAL SALUD', 'EAPB_CAPRECOM EPS', 'EAPB_COLMEDICAS',\n",
       "       'EAPB_COLMENA E.P.S. S.A', 'EAPB_COLSEGUROS', 'EAPB_COMFACHOCO',\n",
       "       'EAPB_COMFACOR', 'EAPB_COMFACOR CORDOBA',\n",
       "       'EAPB_COMFAMILIAR CARTAGENA', 'EAPB_COMFAMILIAR GUAJIRA',\n",
       "       'EAPB_COMFAORIENTE', 'EAPB_COMPARTA', 'EAPB_CONFACOR',\n",
       "       'EAPB_CONSORCIO FIDUCIARIO FIDUPREVISORA PPL ', 'EAPB_COOMEVA EPS',\n",
       "       'EAPB_COOSALUD', 'EAPB_COOSALUD ESS',\n",
       "       'EAPB_DIRECCIÓN DEPARTAMENTAL DE SALUD DE ATLÁNTICO',\n",
       "       'EAPB_DIRECCIÓN DEPARTAMENTAL DE SALUD DE ATLÁNTICO ',\n",
       "       'EAPB_DUSAKAWI', 'EAPB_E.P.S. FAMISANAR LTDA.', 'EAPB_ECOPETROL',\n",
       "       'EAPB_EJERCITO NACIONAL', 'EAPB_EMDISALUD', 'EAPB_EMDISALUD ESS',\n",
       "       'EAPB_EMPRESA MUTUAL PARA EL DESARROLLO INTEGRAL DE LA SALUD E.S.S.',\n",
       "       'EAPB_ENDISALUD', 'EAPB_EPS CONVIDA', 'EAPB_EPS FAMISANAR LTDA',\n",
       "       'EAPB_FAMISANAR', 'EAPB_FERROCARRILES NACIONALES',\n",
       "       'EAPB_FEVISALUD', 'EAPB_FIDUPREVISORA', 'EAPB_FONCOLPUERTOS',\n",
       "       'EAPB_FONDO DE PASIVO SOCIAL DE LA EMPRESA PUERTOS DE COLOMBIA .',\n",
       "       'EAPB_FONDO PASIVO SOCIAL', 'EAPB_FUERZAS MILITARES',\n",
       "       'EAPB_FUSSAL', 'EAPB_Fuerza Aerea', 'EAPB_GOLDEN GROUP',\n",
       "       'EAPB_GOLDENGROUP', 'EAPB_H. VIVIR', 'EAPB_HUMANA VIVIR',\n",
       "       'EAPB_HUMANA VIVIR (s)', 'EAPB_HUMANA VIVIR S.A. E.P.S.',\n",
       "       'EAPB_HUMANAVIVIR', 'EAPB_IPS UNIVERSITARIA', 'EAPB_MAGISTERIO',\n",
       "       'EAPB_MAGISTERIO ', 'EAPB_MAICAO DUSAKAWI',\n",
       "       'EAPB_MEDIMÁS EPS S.A.S. / EPS045 / CNT -CM',\n",
       "       'EAPB_MEDIMÁS EPS S.A.S. CONTRIBUTIVO / EPS044 / CNT',\n",
       "       'EAPB_MUTUAL SER EPS', 'EAPB_MUTUALSER', 'EAPB_NUEVA EPS',\n",
       "       'EAPB_PARTICULAR', 'EAPB_PNA', 'EAPB_POLICIA NACIONAL',\n",
       "       'EAPB_PONAL', 'EAPB_REGIMEN ESPECIAL SANIDAD NAVAL',\n",
       "       'EAPB_SALDU VIDA', 'EAPB_SALUD PLENA', 'EAPB_SALUD TOTAL EPS',\n",
       "       'EAPB_SALUD VIDA', 'EAPB_SALUD VIDA - SALUD GRUPAL',\n",
       "       'EAPB_SALUD VIDA SA EPS', 'EAPB_SALUDCOOP E.P.S.',\n",
       "       'EAPB_SALUDTOTAL', 'EAPB_SALUDVIDA', 'EAPB_SALUDVIDA EPS S.A.',\n",
       "       'EAPB_SALUDVIDA S.A .E.P.S', 'EAPB_SANIDAD NAVAL',\n",
       "       'EAPB_SANITA - FEVISALUD', 'EAPB_SANITAS EPS', 'EAPB_SELVA SALUD',\n",
       "       'EAPB_SELVASALUD', 'EAPB_SELVASALUD S.A. E.P.S',\n",
       "       'EAPB_SELVASALUD S.A. E.P.S.', 'EAPB_SISBEN', 'EAPB_SISVEN',\n",
       "       'EAPB_SOLSALUD', 'EAPB_SOLSALUD E.P.S. S.A',\n",
       "       'EAPB_SOLSALUD E.P.S. S.A.', 'EAPB_SURA EPS', 'EAPB_SURS EPS',\n",
       "       'EAPB_SUSALUD', 'EAPB_UNIATLANTICO',\n",
       "       'EAPB_UNION TEMPORAL DEL NORTE (U.T. NORTE)', 'EAPB_VINCULADO',\n",
       "       'EAPB_alian salud', 'EAPB_comparta', 'EAPB_coosalud cartagena',\n",
       "       'EAPB_sanidad naval', 'EAPB_selvasalud',\n",
       "       'TYPE TUBERCULOSIS_EXTRAPULMONAR', 'TYPE TUBERCULOSIS_MILIAR',\n",
       "       'TYPE TUBERCULOSIS_PULMONAR', 'ADMISSION CONDITION_ABANDONO',\n",
       "       'ADMISSION CONDITION_FRACASO', 'ADMISSION CONDITION_NUEVO',\n",
       "       'ADMISSION CONDITION_OTROS PREVIAMENTE TRATADOS',\n",
       "       'ADMISSION CONDITION_RECAIDA',\n",
       "       'ADMISSION CONDITION_REINGRESO TRAS PERDIDA EN EL SEGUIMIENTO',\n",
       "       'ADMISSION CONDITION_TRANSFERIDA', 'HIV_N.A.', 'HIV_NEGATIVO',\n",
       "       'HIV_PEND.REPORTE', 'HIV_POSITIVO', 'BK_+', 'BK_++', 'BK_+++',\n",
       "       'BK_1 A 9 BAAR', 'BK_NEGATIVE', 'End of BK_+', 'End of BK_+++',\n",
       "       'End of BK_NEGATIVE', 'DRUG SUSCEPTIBILITY_FALLECIDO',\n",
       "       'DRUG SUSCEPTIBILITY_ISONIAZIDA',\n",
       "       'DRUG SUSCEPTIBILITY_MDR (Multidrogorresistente)',\n",
       "       'DRUG SUSCEPTIBILITY_MONORRESISTENTE',\n",
       "       'DRUG SUSCEPTIBILITY_NO REALIZADA',\n",
       "       'DRUG SUSCEPTIBILITY_SENSIBILIDAD', 'COMORBIDITY_Alcoholism',\n",
       "       'COMORBIDITY_COVID-19', 'COMORBIDITY_Cáncer',\n",
       "       'COMORBIDITY_Liver disease ', 'COMORBIDITY_Malnutrition',\n",
       "       'COMORBIDITY_Mellitus diabetes', 'COMORBIDITY_None ',\n",
       "       'COMORBIDITY_Renal disease', 'COMORBIDITY_VIH',\n",
       "       'COMORBIDITY_Various comorbidities',\n",
       "       'COMORBIDITY_autoimmune polyglandular syndromes',\n",
       "       'COMORBIDITY_chronic obstructive pulmonary disease',\n",
       "       'COMORBIDITY_diabetes', 'COMORBIDITY_smoking'], dtype=object)"
      ]
     },
     "execution_count": 3,
     "metadata": {},
     "output_type": "execute_result"
    }
   ],
   "source": [
    "df.columns.values"
   ]
  },
  {
   "cell_type": "code",
   "execution_count": 4,
   "metadata": {},
   "outputs": [
    {
     "name": "stdout",
     "output_type": "stream",
     "text": [
      "<class 'pandas.core.frame.DataFrame'>\n",
      "RangeIndex: 5966 entries, 0 to 5965\n",
      "Data columns (total 6 columns):\n",
      " #   Column        Non-Null Count  Dtype\n",
      "---  ------        --------------  -----\n",
      " 0   ABANDONMENT   5966 non-null   int64\n",
      " 1   CURED         5966 non-null   int64\n",
      " 2   DECEASED      5966 non-null   int64\n",
      " 3   FAILURE       5966 non-null   int64\n",
      " 4   In treatment  5966 non-null   int64\n",
      " 5   TRANSFERRED   5966 non-null   int64\n",
      "dtypes: int64(6)\n",
      "memory usage: 279.8 KB\n"
     ]
    }
   ],
   "source": [
    "df2 = pd.read_excel(r'/media/lbcb/Roberton/elkin /articulo_ tuberculosis /new_Calculs/imagenens/dfdumies.xlsx')\n",
    "df2.info()"
   ]
  },
  {
   "cell_type": "markdown",
   "metadata": {},
   "source": [
    "### How save file with SVG"
   ]
  },
  {
   "cell_type": "code",
   "execution_count": null,
   "metadata": {},
   "outputs": [],
   "source": [
    "#https://www.southampton.ac.uk/~feeg1001/notebooks/Matplotlib.html"
   ]
  },
  {
   "cell_type": "code",
   "execution_count": 5,
   "metadata": {},
   "outputs": [],
   "source": [
    "x = df\n",
    "y = df2['DECEASED']"
   ]
  },
  {
   "cell_type": "code",
   "execution_count": null,
   "metadata": {},
   "outputs": [],
   "source": [
    "#https://github.com/krishnaik06/Complete-Feature-Selection/blob/master/2-Feature%20Selection-%20Correlation.ipynb"
   ]
  },
  {
   "cell_type": "code",
   "execution_count": 6,
   "metadata": {},
   "outputs": [
    {
     "name": "stdout",
     "output_type": "stream",
     "text": [
      "              precision    recall  f1-score   support\n",
      "\n",
      "           0       0.89      0.99      0.94      1740\n",
      "           1       0.49      0.07      0.13       229\n",
      "\n",
      "    accuracy                           0.88      1969\n",
      "   macro avg       0.69      0.53      0.53      1969\n",
      "weighted avg       0.84      0.88      0.84      1969\n",
      "\n",
      "[[1722   18]\n",
      " [ 212   17]]\n",
      "0.8831894362620619\n"
     ]
    }
   ],
   "source": [
    "x_train, x_test, y_train, y_test = train_test_split(x, y, test_size=0.33, random_state=7)\n",
    "logmodel = LogisticRegression()\n",
    "logmodel.fit(x_train, y_train)\n",
    " \n",
    "predictions = logmodel.predict(x_test)\n",
    "print(classification_report(y_test, predictions))\n",
    "print(confusion_matrix(y_test, predictions))\n",
    "print(accuracy_score(y_test, predictions))"
   ]
  },
  {
   "cell_type": "code",
   "execution_count": 7,
   "metadata": {},
   "outputs": [
    {
     "name": "stderr",
     "output_type": "stream",
     "text": [
      "<ipython-input-7-a655b32a99f2>:31: UserWarning: Matplotlib is currently using svg, which is a non-GUI backend, so cannot show the figure.\n",
      "  plt.show()\n"
     ]
    }
   ],
   "source": [
    "import matplotlib\n",
    "matplotlib.use('svg')\n",
    "import matplotlib.pylab as plt\n",
    "import numpy\n",
    "from IPython.display import Image, SVG\n",
    "group_names = ['True Neg','False Pos','False Neg','True Pos']\n",
    "\n",
    "group_counts = [\"{0:0.0f}\".format(value) for value in\n",
    "               confusion_matrix(y_test, predictions).flatten()]\n",
    "\n",
    "group_percentages = [\"{0:.2%}\".format(value) for value in\n",
    "                     confusion_matrix(y_test, predictions).flatten()/np.sum(confusion_matrix(y_test, predictions))]\n",
    "\n",
    "labels = [f\"{v1}\\n{v2}\\n{v3}\" for v1, v2, v3 in\n",
    "          zip(group_names,group_counts,group_percentages)]\n",
    "\n",
    "labels = np.asarray(labels).reshape(2,2)\n",
    "\n",
    "ax = sns.heatmap(confusion_matrix(y_test, predictions), annot=labels, fmt='', cmap='Blues')\n",
    "\n",
    "ax.set_title('Confusion Matrix with LR\\n\\n');\n",
    "ax.set_xlabel('\\nPredicted Values')\n",
    "ax.set_ylabel('Actual Values ');\n",
    "\n",
    "## Ticket labels - List must be in alphabetical order\n",
    "ax.xaxis.set_ticklabels(['False','True'])\n",
    "ax.yaxis.set_ticklabels(['False','True'])\n",
    "\n",
    "## Display the visualization of the Confusion Matrix.\n",
    "plt.savefig(r\"/media/lbcb/Roberton/elkin /articulo_ tuberculosis /new_Calculs/confusion_matrix_LR.svg\")\n",
    "plt.show()\n"
   ]
  },
  {
   "cell_type": "code",
   "execution_count": 10,
   "metadata": {},
   "outputs": [
    {
     "data": {
      "text/plain": [
       "array([-3.71148685])"
      ]
     },
     "execution_count": 10,
     "metadata": {},
     "output_type": "execute_result"
    }
   ],
   "source": [
    "logmodel.intercept_"
   ]
  },
  {
   "cell_type": "code",
   "execution_count": 11,
   "metadata": {},
   "outputs": [],
   "source": [
    "log_odds = logmodel.coef_[0]"
   ]
  },
  {
   "cell_type": "code",
   "execution_count": 21,
   "metadata": {},
   "outputs": [
    {
     "data": {
      "text/html": [
       "<div>\n",
       "<style scoped>\n",
       "    .dataframe tbody tr th:only-of-type {\n",
       "        vertical-align: middle;\n",
       "    }\n",
       "\n",
       "    .dataframe tbody tr th {\n",
       "        vertical-align: top;\n",
       "    }\n",
       "\n",
       "    .dataframe thead th {\n",
       "        text-align: right;\n",
       "    }\n",
       "</style>\n",
       "<table border=\"1\" class=\"dataframe\">\n",
       "  <thead>\n",
       "    <tr style=\"text-align: right;\">\n",
       "      <th></th>\n",
       "      <th>coef</th>\n",
       "    </tr>\n",
       "  </thead>\n",
       "  <tbody>\n",
       "    <tr>\n",
       "      <th>EAPB_IPS UNIVERSITARIA</th>\n",
       "      <td>1.227252</td>\n",
       "    </tr>\n",
       "    <tr>\n",
       "      <th>COMORBIDITY_Cáncer</th>\n",
       "      <td>1.116386</td>\n",
       "    </tr>\n",
       "    <tr>\n",
       "      <th>HIV_POSITIVO</th>\n",
       "      <td>1.105564</td>\n",
       "    </tr>\n",
       "    <tr>\n",
       "      <th>COMORBIDITY_Renal disease</th>\n",
       "      <td>1.031161</td>\n",
       "    </tr>\n",
       "    <tr>\n",
       "      <th>COMORBIDITY_Liver disease</th>\n",
       "      <td>0.846288</td>\n",
       "    </tr>\n",
       "    <tr>\n",
       "      <th>...</th>\n",
       "      <td>...</td>\n",
       "    </tr>\n",
       "    <tr>\n",
       "      <th>EAPB_SALUD TOTAL EPS</th>\n",
       "      <td>-0.783015</td>\n",
       "    </tr>\n",
       "    <tr>\n",
       "      <th>EAPB_MUTUALSER</th>\n",
       "      <td>-0.814505</td>\n",
       "    </tr>\n",
       "    <tr>\n",
       "      <th>EAPB_HUMANAVIVIR</th>\n",
       "      <td>-0.902316</td>\n",
       "    </tr>\n",
       "    <tr>\n",
       "      <th>EAPB_SOLSALUD</th>\n",
       "      <td>-1.038689</td>\n",
       "    </tr>\n",
       "    <tr>\n",
       "      <th>End of BK_NEGATIVE</th>\n",
       "      <td>-4.090367</td>\n",
       "    </tr>\n",
       "  </tbody>\n",
       "</table>\n",
       "<p>182 rows × 1 columns</p>\n",
       "</div>"
      ],
      "text/plain": [
       "                                coef\n",
       "EAPB_IPS UNIVERSITARIA      1.227252\n",
       "COMORBIDITY_Cáncer          1.116386\n",
       "HIV_POSITIVO                1.105564\n",
       "COMORBIDITY_Renal disease   1.031161\n",
       "COMORBIDITY_Liver disease   0.846288\n",
       "...                              ...\n",
       "EAPB_SALUD TOTAL EPS       -0.783015\n",
       "EAPB_MUTUALSER             -0.814505\n",
       "EAPB_HUMANAVIVIR           -0.902316\n",
       "EAPB_SOLSALUD              -1.038689\n",
       "End of BK_NEGATIVE         -4.090367\n",
       "\n",
       "[182 rows x 1 columns]"
      ]
     },
     "execution_count": 21,
     "metadata": {},
     "output_type": "execute_result"
    }
   ],
   "source": [
    "pd.DataFrame(log_odds, \n",
    "             x_train.columns, \n",
    "             columns=['coef'])\\\n",
    "            .sort_values(by='coef', ascending=False)"
   ]
  },
  {
   "cell_type": "code",
   "execution_count": 9,
   "metadata": {},
   "outputs": [],
   "source": [
    "odds = np.exp(logmodel.coef_[0])\n",
    "odds_2=pd.DataFrame(odds, \n",
    "             x_train.columns, \n",
    "             columns=['coef'])\\\n",
    "            .sort_values(by='coef', ascending=False)\n",
    "odds_2.to_excel(r'/media/lbcb/Roberton/elkin /articulo_ tuberculosis /new_Calculs/imagenens/odds_3.xlsx')"
   ]
  },
  {
   "cell_type": "code",
   "execution_count": 10,
   "metadata": {},
   "outputs": [
    {
     "data": {
      "text/html": [
       "<div>\n",
       "<style scoped>\n",
       "    .dataframe tbody tr th:only-of-type {\n",
       "        vertical-align: middle;\n",
       "    }\n",
       "\n",
       "    .dataframe tbody tr th {\n",
       "        vertical-align: top;\n",
       "    }\n",
       "\n",
       "    .dataframe thead th {\n",
       "        text-align: right;\n",
       "    }\n",
       "</style>\n",
       "<table border=\"1\" class=\"dataframe\">\n",
       "  <thead>\n",
       "    <tr style=\"text-align: right;\">\n",
       "      <th></th>\n",
       "      <th>coef</th>\n",
       "    </tr>\n",
       "  </thead>\n",
       "  <tbody>\n",
       "    <tr>\n",
       "      <th>EAPB_IPS UNIVERSITARIA</th>\n",
       "      <td>3.411843</td>\n",
       "    </tr>\n",
       "    <tr>\n",
       "      <th>COMORBIDITY_Cáncer</th>\n",
       "      <td>3.053797</td>\n",
       "    </tr>\n",
       "    <tr>\n",
       "      <th>HIV_POSITIVO</th>\n",
       "      <td>3.020927</td>\n",
       "    </tr>\n",
       "    <tr>\n",
       "      <th>COMORBIDITY_Renal disease</th>\n",
       "      <td>2.804320</td>\n",
       "    </tr>\n",
       "    <tr>\n",
       "      <th>COMORBIDITY_Liver disease</th>\n",
       "      <td>2.330978</td>\n",
       "    </tr>\n",
       "    <tr>\n",
       "      <th>...</th>\n",
       "      <td>...</td>\n",
       "    </tr>\n",
       "    <tr>\n",
       "      <th>EAPB_SALUD TOTAL EPS</th>\n",
       "      <td>0.457026</td>\n",
       "    </tr>\n",
       "    <tr>\n",
       "      <th>EAPB_MUTUALSER</th>\n",
       "      <td>0.442858</td>\n",
       "    </tr>\n",
       "    <tr>\n",
       "      <th>EAPB_HUMANAVIVIR</th>\n",
       "      <td>0.405629</td>\n",
       "    </tr>\n",
       "    <tr>\n",
       "      <th>EAPB_SOLSALUD</th>\n",
       "      <td>0.353918</td>\n",
       "    </tr>\n",
       "    <tr>\n",
       "      <th>End of BK_NEGATIVE</th>\n",
       "      <td>0.016733</td>\n",
       "    </tr>\n",
       "  </tbody>\n",
       "</table>\n",
       "<p>182 rows × 1 columns</p>\n",
       "</div>"
      ],
      "text/plain": [
       "                                coef\n",
       "EAPB_IPS UNIVERSITARIA      3.411843\n",
       "COMORBIDITY_Cáncer          3.053797\n",
       "HIV_POSITIVO                3.020927\n",
       "COMORBIDITY_Renal disease   2.804320\n",
       "COMORBIDITY_Liver disease   2.330978\n",
       "...                              ...\n",
       "EAPB_SALUD TOTAL EPS        0.457026\n",
       "EAPB_MUTUALSER              0.442858\n",
       "EAPB_HUMANAVIVIR            0.405629\n",
       "EAPB_SOLSALUD               0.353918\n",
       "End of BK_NEGATIVE          0.016733\n",
       "\n",
       "[182 rows x 1 columns]"
      ]
     },
     "execution_count": 10,
     "metadata": {},
     "output_type": "execute_result"
    }
   ],
   "source": [
    "odds_2"
   ]
  },
  {
   "cell_type": "code",
   "execution_count": 16,
   "metadata": {},
   "outputs": [
    {
     "name": "stderr",
     "output_type": "stream",
     "text": [
      "No handles with labels found to put in legend.\n"
     ]
    },
    {
     "data": {
      "image/png": "[encoded data removed]",
      "text/plain": [
       "<Figure size 432x288 with 1 Axes>"
      ]
     },
     "metadata": {
      "needs_background": "light"
     },
     "output_type": "display_data"
    }
   ],
   "source": [
    "import matplotlib\n",
    "matplotlib.use('svg')\n",
    "import numpy\n",
    "from IPython.display import Image, SVG\n",
    "import matplotlib.pyplot as plt\n",
    "import seaborn as sns\n",
    "%matplotlib inline\n",
    "# Creating a bar plot\n",
    "sns.barplot(x=odds_2['coef'], y=odds_2.index)\n",
    "# Add labels to your graph\n",
    "plt.xlabel('ODD')\n",
    "plt.ylabel('Features')\n",
    "plt.title(\"Visualizing Important\")\n",
    "plt.legend()\n",
    "plt.savefig(r\"/media/lbcb/Roberton/elkin /articulo_ tuberculosis /new_Calculs/imagenens/ODD_LR.svg\")\n",
    "plt.show()\n"
   ]
  },
  {
   "cell_type": "code",
   "execution_count": 19,
   "metadata": {},
   "outputs": [],
   "source": [
    "from sklearn.ensemble import RandomForestClassifier\n",
    "\n",
    "#Create a Gaussian Classifier\n",
    "clf=RandomForestClassifier(n_estimators=1000)"
   ]
  },
  {
   "cell_type": "code",
   "execution_count": 20,
   "metadata": {},
   "outputs": [
    {
     "data": {
      "text/plain": [
       "RandomForestClassifier(n_estimators=1000)"
      ]
     },
     "execution_count": 20,
     "metadata": {},
     "output_type": "execute_result"
    }
   ],
   "source": [
    "clf.fit(x_train,y_train)"
   ]
  },
  {
   "cell_type": "code",
   "execution_count": 21,
   "metadata": {},
   "outputs": [
    {
     "name": "stdout",
     "output_type": "stream",
     "text": [
      "              precision    recall  f1-score   support\n",
      "\n",
      "           0       0.89      0.97      0.93      1740\n",
      "           1       0.29      0.10      0.15       229\n",
      "\n",
      "    accuracy                           0.87      1969\n",
      "   macro avg       0.59      0.53      0.54      1969\n",
      "weighted avg       0.82      0.87      0.84      1969\n",
      "\n",
      "[[1685   55]\n",
      " [ 206   23]]\n",
      "0.867445403758253\n"
     ]
    }
   ],
   "source": [
    "predi_random = clf.predict(x_test)\n",
    "print(classification_report(y_test, predi_random))\n",
    "print(confusion_matrix(y_test, predi_random))\n",
    "print(accuracy_score(y_test, predi_random))"
   ]
  },
  {
   "cell_type": "code",
   "execution_count": 22,
   "metadata": {},
   "outputs": [
    {
     "data": {
      "image/png": "[encoded data removed]",
      "text/plain": [
       "<Figure size 432x288 with 2 Axes>"
      ]
     },
     "metadata": {
      "needs_background": "light"
     },
     "output_type": "display_data"
    }
   ],
   "source": [
    "group_names = ['True Neg','False Pos','False Neg','True Pos']\n",
    "\n",
    "group_counts = [\"{0:0.0f}\".format(value) for value in\n",
    "               confusion_matrix(y_test, predi_random).flatten()]\n",
    "\n",
    "group_percentages = [\"{0:.2%}\".format(value) for value in\n",
    "                     confusion_matrix(y_test, predi_random).flatten()/np.sum(confusion_matrix(y_test, predi_random))]\n",
    "\n",
    "labels = [f\"{v1}\\n{v2}\\n{v3}\" for v1, v2, v3 in\n",
    "          zip(group_names,group_counts,group_percentages)]\n",
    "\n",
    "labels = np.asarray(labels).reshape(2,2)\n",
    "\n",
    "ax = sns.heatmap(confusion_matrix(y_test, predi_random), annot=labels, fmt='', cmap='Blues')\n",
    "\n",
    "ax.set_title('Confusion Matrix with RandomForest\\n\\n');\n",
    "ax.set_xlabel('\\nPredicted Values')\n",
    "ax.set_ylabel('Actual Values ');\n",
    "\n",
    "## Ticket labels - List must be in alphabetical order\n",
    "ax.xaxis.set_ticklabels(['False','True'])\n",
    "ax.yaxis.set_ticklabels(['False','True'])\n",
    "\n",
    "## Display the visualization of the Confusion Matrix.\n",
    "plt.savefig(r\"/media/lbcb/Roberton/elkin /articulo_ tuberculosis /new_Calculs/confusion_matrix_RandomForest.svg\")\n",
    "plt.show()\n"
   ]
  },
  {
   "cell_type": "code",
   "execution_count": 23,
   "metadata": {},
   "outputs": [
    {
     "name": "stdout",
     "output_type": "stream",
     "text": [
      "Accuracy: 0.867445403758253\n"
     ]
    }
   ],
   "source": [
    "print(\"Accuracy:\",metrics.accuracy_score(y_test, predi_random))"
   ]
  },
  {
   "cell_type": "code",
   "execution_count": 35,
   "metadata": {},
   "outputs": [
    {
     "data": {
      "text/plain": [
       "End of BK_NEGATIVE                                         0.064669\n",
       "HIV_POSITIVO                                               0.057575\n",
       "DRUG SUSCEPTIBILITY_ISONIAZIDA                             0.043420\n",
       "NEIGHBORHOOD_SURORIENTE                                    0.039298\n",
       "HIV_NEGATIVO                                               0.039049\n",
       "                                                             ...   \n",
       "EAPB_SUSALUD                                               0.000000\n",
       "EAPB_ASOCIACIÓN INDÍGENA DEL CAUCA - AIC / EPSI03 / SBS    0.000000\n",
       "EAPB_comparta                                              0.000000\n",
       "EAPB_COLMENA E.P.S. S.A                                    0.000000\n",
       "EAPB_PARTICULAR                                            0.000000\n",
       "Length: 182, dtype: float64"
      ]
     },
     "execution_count": 35,
     "metadata": {},
     "output_type": "execute_result"
    }
   ],
   "source": [
    "import pandas as pd\n",
    "feature_imp = pd.Series(clf.feature_importances_ ,index=x_train.columns).sort_values(ascending=False)\n",
    "\n",
    "feature_imp"
   ]
  },
  {
   "cell_type": "code",
   "execution_count": 36,
   "metadata": {},
   "outputs": [],
   "source": [
    "feature_imp.to_excel(r'/media/lbcb/Roberton/elkin /articulo_ tuberculosis /new_Calculs/imagenens/RandomForest_feature_3.xlsx')"
   ]
  },
  {
   "cell_type": "code",
   "execution_count": 73,
   "metadata": {},
   "outputs": [
    {
     "name": "stderr",
     "output_type": "stream",
     "text": [
      "No handles with labels found to put in legend.\n"
     ]
    },
    {
     "data": {
      "image/png": "[encoded data removed]",
      "text/plain": [
       "<Figure size 432x288 with 1 Axes>"
      ]
     },
     "metadata": {
      "needs_background": "light"
     },
     "output_type": "display_data"
    }
   ],
   "source": [
    "import matplotlib.pyplot as plt\n",
    "import seaborn as sns\n",
    "%matplotlib inline\n",
    "# Creating a bar plot\n",
    "sns.barplot(x=feature_imp, y=feature_imp.index)\n",
    "# Add labels to your graph\n",
    "plt.xlabel('Feature Importance Score')\n",
    "plt.ylabel('Features')\n",
    "plt.title(\"Visualizing Important Features\")\n",
    "plt.legend()\n",
    "plt.show()"
   ]
  },
  {
   "cell_type": "code",
   "execution_count": 39,
   "metadata": {},
   "outputs": [
    {
     "name": "stdout",
     "output_type": "stream",
     "text": [
      "Learning rate set to 0.018615\n",
      "0:\tlearn: 0.6787800\ttotal: 78.6ms\tremaining: 1m 18s\n",
      "1:\tlearn: 0.6559445\ttotal: 83.8ms\tremaining: 41.8s\n",
      "2:\tlearn: 0.6407674\ttotal: 157ms\tremaining: 52.1s\n",
      "3:\tlearn: 0.6220281\ttotal: 305ms\tremaining: 1m 16s\n",
      "4:\tlearn: 0.6017874\ttotal: 309ms\tremaining: 1m 1s\n",
      "5:\tlearn: 0.5909327\ttotal: 311ms\tremaining: 51.5s\n",
      "6:\tlearn: 0.5785914\ttotal: 464ms\tremaining: 1m 5s\n",
      "7:\tlearn: 0.5591981\ttotal: 475ms\tremaining: 58.9s\n",
      "8:\tlearn: 0.5437436\ttotal: 635ms\tremaining: 1m 9s\n",
      "9:\tlearn: 0.5334484\ttotal: 641ms\tremaining: 1m 3s\n",
      "10:\tlearn: 0.5250952\ttotal: 643ms\tremaining: 57.8s\n",
      "11:\tlearn: 0.5106872\ttotal: 646ms\tremaining: 53.2s\n",
      "12:\tlearn: 0.4974081\ttotal: 797ms\tremaining: 1m\n",
      "13:\tlearn: 0.4905682\ttotal: 799ms\tremaining: 56.3s\n",
      "14:\tlearn: 0.4785383\ttotal: 810ms\tremaining: 53.2s\n",
      "15:\tlearn: 0.4723872\ttotal: 812ms\tremaining: 49.9s\n",
      "16:\tlearn: 0.4662537\ttotal: 957ms\tremaining: 55.4s\n",
      "17:\tlearn: 0.4605689\ttotal: 959ms\tremaining: 52.3s\n",
      "18:\tlearn: 0.4545198\ttotal: 970ms\tremaining: 50.1s\n",
      "19:\tlearn: 0.4494196\ttotal: 972ms\tremaining: 47.6s\n",
      "20:\tlearn: 0.4427965\ttotal: 1.01s\tremaining: 47s\n",
      "21:\tlearn: 0.4371118\ttotal: 1.01s\tremaining: 44.9s\n",
      "22:\tlearn: 0.4290815\ttotal: 1.17s\tremaining: 49.6s\n",
      "23:\tlearn: 0.4246928\ttotal: 1.17s\tremaining: 47.7s\n",
      "24:\tlearn: 0.4160905\ttotal: 1.18s\tremaining: 45.9s\n",
      "25:\tlearn: 0.4119112\ttotal: 1.18s\tremaining: 44.3s\n",
      "26:\tlearn: 0.4071544\ttotal: 1.34s\tremaining: 48.2s\n",
      "27:\tlearn: 0.4029543\ttotal: 1.49s\tremaining: 51.6s\n",
      "28:\tlearn: 0.3994794\ttotal: 1.53s\tremaining: 51.1s\n",
      "29:\tlearn: 0.3941639\ttotal: 1.68s\tremaining: 54.4s\n",
      "30:\tlearn: 0.3885069\ttotal: 1.84s\tremaining: 57.6s\n",
      "31:\tlearn: 0.3833577\ttotal: 2s\tremaining: 1m\n",
      "32:\tlearn: 0.3806866\ttotal: 2s\tremaining: 58.7s\n",
      "33:\tlearn: 0.3747885\ttotal: 2.14s\tremaining: 1m\n",
      "34:\tlearn: 0.3717605\ttotal: 2.18s\tremaining: 1m\n",
      "35:\tlearn: 0.3683412\ttotal: 2.33s\tremaining: 1m 2s\n",
      "36:\tlearn: 0.3635461\ttotal: 2.33s\tremaining: 1m\n",
      "37:\tlearn: 0.3586735\ttotal: 2.34s\tremaining: 59.2s\n",
      "38:\tlearn: 0.3545425\ttotal: 2.48s\tremaining: 1m 1s\n",
      "39:\tlearn: 0.3512969\ttotal: 2.64s\tremaining: 1m 3s\n",
      "40:\tlearn: 0.3476829\ttotal: 2.66s\tremaining: 1m 2s\n",
      "41:\tlearn: 0.3447504\ttotal: 2.83s\tremaining: 1m 4s\n",
      "42:\tlearn: 0.3414661\ttotal: 2.98s\tremaining: 1m 6s\n",
      "43:\tlearn: 0.3399433\ttotal: 3.06s\tremaining: 1m 6s\n",
      "44:\tlearn: 0.3370141\ttotal: 3.21s\tremaining: 1m 8s\n",
      "45:\tlearn: 0.3351607\ttotal: 3.21s\tremaining: 1m 6s\n",
      "46:\tlearn: 0.3329720\ttotal: 3.37s\tremaining: 1m 8s\n",
      "47:\tlearn: 0.3299414\ttotal: 3.37s\tremaining: 1m 6s\n",
      "48:\tlearn: 0.3273097\ttotal: 3.55s\tremaining: 1m 8s\n",
      "49:\tlearn: 0.3244658\ttotal: 3.71s\tremaining: 1m 10s\n",
      "50:\tlearn: 0.3234247\ttotal: 3.71s\tremaining: 1m 9s\n",
      "51:\tlearn: 0.3218323\ttotal: 3.8s\tremaining: 1m 9s\n",
      "52:\tlearn: 0.3195019\ttotal: 3.97s\tremaining: 1m 10s\n",
      "53:\tlearn: 0.3185148\ttotal: 3.97s\tremaining: 1m 9s\n",
      "54:\tlearn: 0.3176708\ttotal: 3.97s\tremaining: 1m 8s\n",
      "55:\tlearn: 0.3168513\ttotal: 3.97s\tremaining: 1m 6s\n",
      "56:\tlearn: 0.3154083\ttotal: 4.15s\tremaining: 1m 8s\n",
      "57:\tlearn: 0.3133857\ttotal: 4.15s\tremaining: 1m 7s\n",
      "58:\tlearn: 0.3119070\ttotal: 4.33s\tremaining: 1m 9s\n",
      "59:\tlearn: 0.3096379\ttotal: 4.33s\tremaining: 1m 7s\n",
      "60:\tlearn: 0.3076798\ttotal: 4.49s\tremaining: 1m 9s\n",
      "61:\tlearn: 0.3057769\ttotal: 4.64s\tremaining: 1m 10s\n",
      "62:\tlearn: 0.3050998\ttotal: 4.64s\tremaining: 1m 9s\n",
      "63:\tlearn: 0.3032666\ttotal: 4.8s\tremaining: 1m 10s\n",
      "64:\tlearn: 0.3027569\ttotal: 4.8s\tremaining: 1m 9s\n",
      "65:\tlearn: 0.3008537\ttotal: 4.96s\tremaining: 1m 10s\n",
      "66:\tlearn: 0.2996703\ttotal: 5s\tremaining: 1m 9s\n",
      "67:\tlearn: 0.2981601\ttotal: 5.15s\tremaining: 1m 10s\n",
      "68:\tlearn: 0.2965084\ttotal: 5.31s\tremaining: 1m 11s\n",
      "69:\tlearn: 0.2951754\ttotal: 5.46s\tremaining: 1m 12s\n",
      "70:\tlearn: 0.2943804\ttotal: 5.48s\tremaining: 1m 11s\n",
      "71:\tlearn: 0.2925017\ttotal: 5.64s\tremaining: 1m 12s\n",
      "72:\tlearn: 0.2918913\ttotal: 5.64s\tremaining: 1m 11s\n",
      "73:\tlearn: 0.2914594\ttotal: 5.64s\tremaining: 1m 10s\n",
      "74:\tlearn: 0.2911296\ttotal: 5.65s\tremaining: 1m 9s\n",
      "75:\tlearn: 0.2891926\ttotal: 5.79s\tremaining: 1m 10s\n",
      "76:\tlearn: 0.2872744\ttotal: 5.95s\tremaining: 1m 11s\n",
      "77:\tlearn: 0.2864677\ttotal: 6.11s\tremaining: 1m 12s\n",
      "78:\tlearn: 0.2849183\ttotal: 6.26s\tremaining: 1m 12s\n",
      "79:\tlearn: 0.2836834\ttotal: 6.44s\tremaining: 1m 14s\n",
      "80:\tlearn: 0.2834554\ttotal: 6.44s\tremaining: 1m 13s\n",
      "81:\tlearn: 0.2823796\ttotal: 6.59s\tremaining: 1m 13s\n",
      "82:\tlearn: 0.2812403\ttotal: 6.76s\tremaining: 1m 14s\n",
      "83:\tlearn: 0.2800056\ttotal: 6.92s\tremaining: 1m 15s\n",
      "84:\tlearn: 0.2787856\ttotal: 7.08s\tremaining: 1m 16s\n",
      "85:\tlearn: 0.2777688\ttotal: 7.27s\tremaining: 1m 17s\n",
      "86:\tlearn: 0.2775580\ttotal: 7.27s\tremaining: 1m 16s\n",
      "87:\tlearn: 0.2768390\ttotal: 7.42s\tremaining: 1m 16s\n",
      "88:\tlearn: 0.2754761\ttotal: 7.57s\tremaining: 1m 17s\n",
      "89:\tlearn: 0.2739370\ttotal: 7.73s\tremaining: 1m 18s\n",
      "90:\tlearn: 0.2729881\ttotal: 7.89s\tremaining: 1m 18s\n",
      "91:\tlearn: 0.2725894\ttotal: 7.93s\tremaining: 1m 18s\n",
      "92:\tlearn: 0.2724221\ttotal: 7.93s\tremaining: 1m 17s\n",
      "93:\tlearn: 0.2713282\ttotal: 8.09s\tremaining: 1m 17s\n",
      "94:\tlearn: 0.2708087\ttotal: 8.13s\tremaining: 1m 17s\n",
      "95:\tlearn: 0.2701567\ttotal: 8.28s\tremaining: 1m 17s\n",
      "96:\tlearn: 0.2693243\ttotal: 8.29s\tremaining: 1m 17s\n",
      "97:\tlearn: 0.2681361\ttotal: 8.43s\tremaining: 1m 17s\n",
      "98:\tlearn: 0.2670882\ttotal: 8.6s\tremaining: 1m 18s\n",
      "99:\tlearn: 0.2661882\ttotal: 8.76s\tremaining: 1m 18s\n",
      "100:\tlearn: 0.2649842\ttotal: 8.91s\tremaining: 1m 19s\n",
      "101:\tlearn: 0.2646242\ttotal: 8.92s\tremaining: 1m 18s\n",
      "102:\tlearn: 0.2636963\ttotal: 9.07s\tremaining: 1m 19s\n",
      "103:\tlearn: 0.2635503\ttotal: 9.08s\tremaining: 1m 18s\n",
      "104:\tlearn: 0.2626165\ttotal: 9.24s\tremaining: 1m 18s\n",
      "105:\tlearn: 0.2622900\ttotal: 9.38s\tremaining: 1m 19s\n",
      "106:\tlearn: 0.2608564\ttotal: 9.56s\tremaining: 1m 19s\n",
      "107:\tlearn: 0.2607457\ttotal: 9.56s\tremaining: 1m 18s\n",
      "108:\tlearn: 0.2597469\ttotal: 9.72s\tremaining: 1m 19s\n",
      "109:\tlearn: 0.2588438\ttotal: 9.89s\tremaining: 1m 19s\n",
      "110:\tlearn: 0.2582886\ttotal: 10s\tremaining: 1m 20s\n",
      "111:\tlearn: 0.2581920\ttotal: 10s\tremaining: 1m 19s\n",
      "112:\tlearn: 0.2572491\ttotal: 10.2s\tremaining: 1m 20s\n",
      "113:\tlearn: 0.2569659\ttotal: 10.4s\tremaining: 1m 20s\n",
      "114:\tlearn: 0.2561915\ttotal: 10.6s\tremaining: 1m 21s\n",
      "115:\tlearn: 0.2552456\ttotal: 10.7s\tremaining: 1m 21s\n",
      "116:\tlearn: 0.2545227\ttotal: 10.9s\tremaining: 1m 22s\n",
      "117:\tlearn: 0.2537327\ttotal: 11.1s\tremaining: 1m 22s\n",
      "118:\tlearn: 0.2534196\ttotal: 11.1s\tremaining: 1m 22s\n",
      "119:\tlearn: 0.2521713\ttotal: 11.2s\tremaining: 1m 22s\n",
      "120:\tlearn: 0.2520194\ttotal: 11.2s\tremaining: 1m 21s\n",
      "121:\tlearn: 0.2514337\ttotal: 11.4s\tremaining: 1m 21s\n",
      "122:\tlearn: 0.2508621\ttotal: 11.6s\tremaining: 1m 22s\n",
      "123:\tlearn: 0.2501410\ttotal: 11.7s\tremaining: 1m 22s\n",
      "124:\tlearn: 0.2500568\ttotal: 11.7s\tremaining: 1m 22s\n",
      "125:\tlearn: 0.2495566\ttotal: 11.9s\tremaining: 1m 22s\n",
      "126:\tlearn: 0.2481965\ttotal: 12s\tremaining: 1m 22s\n",
      "127:\tlearn: 0.2475398\ttotal: 12.1s\tremaining: 1m 22s\n",
      "128:\tlearn: 0.2470130\ttotal: 12.3s\tremaining: 1m 22s\n",
      "129:\tlearn: 0.2464555\ttotal: 12.4s\tremaining: 1m 23s\n",
      "130:\tlearn: 0.2452641\ttotal: 12.6s\tremaining: 1m 23s\n",
      "131:\tlearn: 0.2442996\ttotal: 12.8s\tremaining: 1m 23s\n",
      "132:\tlearn: 0.2440798\ttotal: 12.9s\tremaining: 1m 24s\n",
      "133:\tlearn: 0.2430564\ttotal: 13.1s\tremaining: 1m 24s\n",
      "134:\tlearn: 0.2425200\ttotal: 13.2s\tremaining: 1m 24s\n",
      "135:\tlearn: 0.2421963\ttotal: 13.4s\tremaining: 1m 25s\n",
      "136:\tlearn: 0.2410032\ttotal: 13.6s\tremaining: 1m 25s\n",
      "137:\tlearn: 0.2402674\ttotal: 13.8s\tremaining: 1m 25s\n",
      "138:\tlearn: 0.2395457\ttotal: 13.9s\tremaining: 1m 26s\n",
      "139:\tlearn: 0.2389390\ttotal: 14.1s\tremaining: 1m 26s\n",
      "140:\tlearn: 0.2380859\ttotal: 14.3s\tremaining: 1m 27s\n",
      "141:\tlearn: 0.2371189\ttotal: 14.5s\tremaining: 1m 27s\n",
      "142:\tlearn: 0.2362863\ttotal: 14.7s\tremaining: 1m 27s\n",
      "143:\tlearn: 0.2359711\ttotal: 14.9s\tremaining: 1m 28s\n",
      "144:\tlearn: 0.2358336\ttotal: 15s\tremaining: 1m 28s\n",
      "145:\tlearn: 0.2352118\ttotal: 15.2s\tremaining: 1m 29s\n",
      "146:\tlearn: 0.2347270\ttotal: 15.4s\tremaining: 1m 29s\n",
      "147:\tlearn: 0.2338097\ttotal: 15.6s\tremaining: 1m 29s\n",
      "148:\tlearn: 0.2334070\ttotal: 15.8s\tremaining: 1m 30s\n",
      "149:\tlearn: 0.2326568\ttotal: 16s\tremaining: 1m 30s\n",
      "150:\tlearn: 0.2321589\ttotal: 16.1s\tremaining: 1m 30s\n",
      "151:\tlearn: 0.2314602\ttotal: 16.3s\tremaining: 1m 30s\n",
      "152:\tlearn: 0.2306456\ttotal: 16.5s\tremaining: 1m 31s\n",
      "153:\tlearn: 0.2301752\ttotal: 16.7s\tremaining: 1m 31s\n",
      "154:\tlearn: 0.2301379\ttotal: 16.7s\tremaining: 1m 30s\n",
      "155:\tlearn: 0.2299013\ttotal: 16.8s\tremaining: 1m 31s\n",
      "156:\tlearn: 0.2293033\ttotal: 17s\tremaining: 1m 31s\n",
      "157:\tlearn: 0.2290379\ttotal: 17.1s\tremaining: 1m 31s\n",
      "158:\tlearn: 0.2288805\ttotal: 17.1s\tremaining: 1m 30s\n"
     ]
    },
    {
     "name": "stdout",
     "output_type": "stream",
     "text": [
      "159:\tlearn: 0.2285036\ttotal: 17.2s\tremaining: 1m 30s\n",
      "160:\tlearn: 0.2281390\ttotal: 17.3s\tremaining: 1m 30s\n",
      "161:\tlearn: 0.2276962\ttotal: 17.5s\tremaining: 1m 30s\n",
      "162:\tlearn: 0.2270325\ttotal: 17.6s\tremaining: 1m 30s\n",
      "163:\tlearn: 0.2267259\ttotal: 17.8s\tremaining: 1m 30s\n",
      "164:\tlearn: 0.2263870\ttotal: 18s\tremaining: 1m 31s\n",
      "165:\tlearn: 0.2263530\ttotal: 18s\tremaining: 1m 30s\n",
      "166:\tlearn: 0.2258796\ttotal: 18.2s\tremaining: 1m 30s\n",
      "167:\tlearn: 0.2258236\ttotal: 18.2s\tremaining: 1m 30s\n",
      "168:\tlearn: 0.2257191\ttotal: 18.2s\tremaining: 1m 29s\n",
      "169:\tlearn: 0.2254698\ttotal: 18.4s\tremaining: 1m 29s\n",
      "170:\tlearn: 0.2253813\ttotal: 18.4s\tremaining: 1m 29s\n",
      "171:\tlearn: 0.2251050\ttotal: 18.5s\tremaining: 1m 29s\n",
      "172:\tlearn: 0.2240760\ttotal: 18.7s\tremaining: 1m 29s\n",
      "173:\tlearn: 0.2240276\ttotal: 18.7s\tremaining: 1m 28s\n",
      "174:\tlearn: 0.2240084\ttotal: 18.7s\tremaining: 1m 28s\n",
      "175:\tlearn: 0.2239452\ttotal: 18.9s\tremaining: 1m 28s\n",
      "176:\tlearn: 0.2234184\ttotal: 19s\tremaining: 1m 28s\n",
      "177:\tlearn: 0.2232896\ttotal: 19.2s\tremaining: 1m 28s\n",
      "178:\tlearn: 0.2230529\ttotal: 19.3s\tremaining: 1m 28s\n",
      "179:\tlearn: 0.2225989\ttotal: 19.5s\tremaining: 1m 28s\n",
      "180:\tlearn: 0.2220545\ttotal: 19.7s\tremaining: 1m 29s\n",
      "181:\tlearn: 0.2217502\ttotal: 19.9s\tremaining: 1m 29s\n",
      "182:\tlearn: 0.2215489\ttotal: 20s\tremaining: 1m 29s\n",
      "183:\tlearn: 0.2213536\ttotal: 20.2s\tremaining: 1m 29s\n",
      "184:\tlearn: 0.2204013\ttotal: 20.3s\tremaining: 1m 29s\n",
      "185:\tlearn: 0.2201350\ttotal: 20.5s\tremaining: 1m 29s\n",
      "186:\tlearn: 0.2197852\ttotal: 20.7s\tremaining: 1m 29s\n",
      "187:\tlearn: 0.2194939\ttotal: 20.8s\tremaining: 1m 29s\n",
      "188:\tlearn: 0.2191045\ttotal: 21s\tremaining: 1m 30s\n",
      "189:\tlearn: 0.2187254\ttotal: 21.2s\tremaining: 1m 30s\n",
      "190:\tlearn: 0.2185638\ttotal: 21.2s\tremaining: 1m 29s\n",
      "191:\tlearn: 0.2183794\ttotal: 21.3s\tremaining: 1m 29s\n",
      "192:\tlearn: 0.2179746\ttotal: 21.5s\tremaining: 1m 29s\n",
      "193:\tlearn: 0.2173530\ttotal: 21.7s\tremaining: 1m 30s\n",
      "194:\tlearn: 0.2169662\ttotal: 21.7s\tremaining: 1m 29s\n",
      "195:\tlearn: 0.2166551\ttotal: 21.9s\tremaining: 1m 29s\n",
      "196:\tlearn: 0.2165900\ttotal: 21.9s\tremaining: 1m 29s\n",
      "197:\tlearn: 0.2158652\ttotal: 22.1s\tremaining: 1m 29s\n",
      "198:\tlearn: 0.2157760\ttotal: 22.2s\tremaining: 1m 29s\n",
      "199:\tlearn: 0.2154222\ttotal: 22.4s\tremaining: 1m 29s\n",
      "200:\tlearn: 0.2150242\ttotal: 22.5s\tremaining: 1m 29s\n",
      "201:\tlearn: 0.2148524\ttotal: 22.7s\tremaining: 1m 29s\n",
      "202:\tlearn: 0.2147816\ttotal: 22.7s\tremaining: 1m 29s\n",
      "203:\tlearn: 0.2141967\ttotal: 22.9s\tremaining: 1m 29s\n",
      "204:\tlearn: 0.2141206\ttotal: 23s\tremaining: 1m 29s\n",
      "205:\tlearn: 0.2139467\ttotal: 23.1s\tremaining: 1m 28s\n",
      "206:\tlearn: 0.2136464\ttotal: 23.2s\tremaining: 1m 28s\n",
      "207:\tlearn: 0.2134498\ttotal: 23.4s\tremaining: 1m 29s\n",
      "208:\tlearn: 0.2134386\ttotal: 23.4s\tremaining: 1m 28s\n",
      "209:\tlearn: 0.2131928\ttotal: 23.5s\tremaining: 1m 28s\n",
      "210:\tlearn: 0.2129990\ttotal: 23.7s\tremaining: 1m 28s\n",
      "211:\tlearn: 0.2128830\ttotal: 23.8s\tremaining: 1m 28s\n",
      "212:\tlearn: 0.2125192\ttotal: 24s\tremaining: 1m 28s\n",
      "213:\tlearn: 0.2124685\ttotal: 24.1s\tremaining: 1m 28s\n",
      "214:\tlearn: 0.2120039\ttotal: 24.3s\tremaining: 1m 28s\n",
      "215:\tlearn: 0.2118941\ttotal: 24.5s\tremaining: 1m 28s\n",
      "216:\tlearn: 0.2116654\ttotal: 24.6s\tremaining: 1m 28s\n",
      "217:\tlearn: 0.2116119\ttotal: 24.6s\tremaining: 1m 28s\n",
      "218:\tlearn: 0.2115918\ttotal: 24.6s\tremaining: 1m 27s\n",
      "219:\tlearn: 0.2114974\ttotal: 24.7s\tremaining: 1m 27s\n",
      "220:\tlearn: 0.2111971\ttotal: 24.7s\tremaining: 1m 27s\n",
      "221:\tlearn: 0.2111498\ttotal: 24.9s\tremaining: 1m 27s\n",
      "222:\tlearn: 0.2110851\ttotal: 24.9s\tremaining: 1m 26s\n",
      "223:\tlearn: 0.2108222\ttotal: 25s\tremaining: 1m 26s\n",
      "224:\tlearn: 0.2103725\ttotal: 25.2s\tremaining: 1m 26s\n",
      "225:\tlearn: 0.2099842\ttotal: 25.3s\tremaining: 1m 26s\n",
      "226:\tlearn: 0.2098273\ttotal: 25.4s\tremaining: 1m 26s\n",
      "227:\tlearn: 0.2097851\ttotal: 25.5s\tremaining: 1m 26s\n",
      "228:\tlearn: 0.2097438\ttotal: 25.5s\tremaining: 1m 25s\n",
      "229:\tlearn: 0.2093941\ttotal: 25.7s\tremaining: 1m 25s\n",
      "230:\tlearn: 0.2091226\ttotal: 25.8s\tremaining: 1m 25s\n",
      "231:\tlearn: 0.2090174\ttotal: 26s\tremaining: 1m 25s\n",
      "232:\tlearn: 0.2089451\ttotal: 26s\tremaining: 1m 25s\n",
      "233:\tlearn: 0.2085671\ttotal: 26.2s\tremaining: 1m 25s\n",
      "234:\tlearn: 0.2080719\ttotal: 26.3s\tremaining: 1m 25s\n",
      "235:\tlearn: 0.2080119\ttotal: 26.5s\tremaining: 1m 25s\n",
      "236:\tlearn: 0.2078700\ttotal: 26.6s\tremaining: 1m 25s\n",
      "237:\tlearn: 0.2072871\ttotal: 26.8s\tremaining: 1m 25s\n",
      "238:\tlearn: 0.2072549\ttotal: 26.8s\tremaining: 1m 25s\n",
      "239:\tlearn: 0.2069797\ttotal: 27s\tremaining: 1m 25s\n",
      "240:\tlearn: 0.2069148\ttotal: 27.1s\tremaining: 1m 25s\n",
      "241:\tlearn: 0.2067625\ttotal: 27.3s\tremaining: 1m 25s\n",
      "242:\tlearn: 0.2067298\ttotal: 27.3s\tremaining: 1m 25s\n",
      "243:\tlearn: 0.2063432\ttotal: 27.5s\tremaining: 1m 25s\n",
      "244:\tlearn: 0.2062403\ttotal: 27.6s\tremaining: 1m 25s\n",
      "245:\tlearn: 0.2061788\ttotal: 27.6s\tremaining: 1m 24s\n",
      "246:\tlearn: 0.2057824\ttotal: 27.8s\tremaining: 1m 24s\n",
      "247:\tlearn: 0.2056801\ttotal: 27.9s\tremaining: 1m 24s\n",
      "248:\tlearn: 0.2054922\ttotal: 28s\tremaining: 1m 24s\n",
      "249:\tlearn: 0.2053363\ttotal: 28.1s\tremaining: 1m 24s\n",
      "250:\tlearn: 0.2051928\ttotal: 28.3s\tremaining: 1m 24s\n",
      "251:\tlearn: 0.2050642\ttotal: 28.5s\tremaining: 1m 24s\n",
      "252:\tlearn: 0.2049686\ttotal: 28.6s\tremaining: 1m 24s\n",
      "253:\tlearn: 0.2048116\ttotal: 28.8s\tremaining: 1m 24s\n",
      "254:\tlearn: 0.2045989\ttotal: 28.9s\tremaining: 1m 24s\n",
      "255:\tlearn: 0.2044384\ttotal: 29.1s\tremaining: 1m 24s\n",
      "256:\tlearn: 0.2044310\ttotal: 29.1s\tremaining: 1m 24s\n",
      "257:\tlearn: 0.2043216\ttotal: 29.3s\tremaining: 1m 24s\n",
      "258:\tlearn: 0.2035791\ttotal: 29.4s\tremaining: 1m 24s\n",
      "259:\tlearn: 0.2035428\ttotal: 29.4s\tremaining: 1m 23s\n",
      "260:\tlearn: 0.2035419\ttotal: 29.4s\tremaining: 1m 23s\n",
      "261:\tlearn: 0.2033724\ttotal: 29.6s\tremaining: 1m 23s\n",
      "262:\tlearn: 0.2032535\ttotal: 29.7s\tremaining: 1m 23s\n",
      "263:\tlearn: 0.2032127\ttotal: 29.7s\tremaining: 1m 22s\n",
      "264:\tlearn: 0.2027397\ttotal: 29.9s\tremaining: 1m 22s\n",
      "265:\tlearn: 0.2025353\ttotal: 30s\tremaining: 1m 22s\n",
      "266:\tlearn: 0.2024045\ttotal: 30.2s\tremaining: 1m 22s\n",
      "267:\tlearn: 0.2023587\ttotal: 30.2s\tremaining: 1m 22s\n",
      "268:\tlearn: 0.2021073\ttotal: 30.4s\tremaining: 1m 22s\n",
      "269:\tlearn: 0.2020248\ttotal: 30.4s\tremaining: 1m 22s\n",
      "270:\tlearn: 0.2019741\ttotal: 30.4s\tremaining: 1m 21s\n",
      "271:\tlearn: 0.2017851\ttotal: 30.4s\tremaining: 1m 21s\n",
      "272:\tlearn: 0.2017016\ttotal: 30.5s\tremaining: 1m 21s\n",
      "273:\tlearn: 0.2015760\ttotal: 30.5s\tremaining: 1m 20s\n",
      "274:\tlearn: 0.2013978\ttotal: 30.7s\tremaining: 1m 20s\n",
      "275:\tlearn: 0.2011458\ttotal: 30.8s\tremaining: 1m 20s\n",
      "276:\tlearn: 0.2011259\ttotal: 30.8s\tremaining: 1m 20s\n",
      "277:\tlearn: 0.2007641\ttotal: 31s\tremaining: 1m 20s\n",
      "278:\tlearn: 0.2005544\ttotal: 31.2s\tremaining: 1m 20s\n",
      "279:\tlearn: 0.2002680\ttotal: 31.3s\tremaining: 1m 20s\n",
      "280:\tlearn: 0.2002130\ttotal: 31.4s\tremaining: 1m 20s\n",
      "281:\tlearn: 0.2001598\ttotal: 31.4s\tremaining: 1m 19s\n",
      "282:\tlearn: 0.1993492\ttotal: 31.6s\tremaining: 1m 20s\n",
      "283:\tlearn: 0.1989925\ttotal: 31.7s\tremaining: 1m 19s\n",
      "284:\tlearn: 0.1983425\ttotal: 31.9s\tremaining: 1m 20s\n",
      "285:\tlearn: 0.1982369\ttotal: 32s\tremaining: 1m 19s\n",
      "286:\tlearn: 0.1981284\ttotal: 32.2s\tremaining: 1m 19s\n",
      "287:\tlearn: 0.1981161\ttotal: 32.2s\tremaining: 1m 19s\n",
      "288:\tlearn: 0.1976303\ttotal: 32.4s\tremaining: 1m 19s\n",
      "289:\tlearn: 0.1975959\ttotal: 32.4s\tremaining: 1m 19s\n",
      "290:\tlearn: 0.1975854\ttotal: 32.4s\tremaining: 1m 18s\n",
      "291:\tlearn: 0.1973668\ttotal: 32.4s\tremaining: 1m 18s\n",
      "292:\tlearn: 0.1971856\ttotal: 32.5s\tremaining: 1m 18s\n",
      "293:\tlearn: 0.1968442\ttotal: 32.6s\tremaining: 1m 18s\n",
      "294:\tlearn: 0.1967585\ttotal: 32.6s\tremaining: 1m 17s\n",
      "295:\tlearn: 0.1963016\ttotal: 32.8s\tremaining: 1m 18s\n",
      "296:\tlearn: 0.1962623\ttotal: 32.8s\tremaining: 1m 17s\n",
      "297:\tlearn: 0.1961167\ttotal: 33s\tremaining: 1m 17s\n",
      "298:\tlearn: 0.1956698\ttotal: 33.1s\tremaining: 1m 17s\n",
      "299:\tlearn: 0.1954946\ttotal: 33.3s\tremaining: 1m 17s\n",
      "300:\tlearn: 0.1954675\ttotal: 33.3s\tremaining: 1m 17s\n",
      "301:\tlearn: 0.1951637\ttotal: 33.4s\tremaining: 1m 17s\n",
      "302:\tlearn: 0.1947599\ttotal: 33.6s\tremaining: 1m 17s\n",
      "303:\tlearn: 0.1947383\ttotal: 33.6s\tremaining: 1m 16s\n",
      "304:\tlearn: 0.1945987\ttotal: 33.7s\tremaining: 1m 16s\n",
      "305:\tlearn: 0.1943072\ttotal: 33.9s\tremaining: 1m 16s\n",
      "306:\tlearn: 0.1941688\ttotal: 33.9s\tremaining: 1m 16s\n",
      "307:\tlearn: 0.1940559\ttotal: 34.1s\tremaining: 1m 16s\n",
      "308:\tlearn: 0.1937665\ttotal: 34.2s\tremaining: 1m 16s\n",
      "309:\tlearn: 0.1932161\ttotal: 34.4s\tremaining: 1m 16s\n",
      "310:\tlearn: 0.1932006\ttotal: 34.4s\tremaining: 1m 16s\n",
      "311:\tlearn: 0.1929461\ttotal: 34.5s\tremaining: 1m 16s\n",
      "312:\tlearn: 0.1926266\ttotal: 34.7s\tremaining: 1m 16s\n",
      "313:\tlearn: 0.1926167\ttotal: 34.7s\tremaining: 1m 15s\n",
      "314:\tlearn: 0.1924629\ttotal: 34.9s\tremaining: 1m 15s\n",
      "315:\tlearn: 0.1924110\ttotal: 34.9s\tremaining: 1m 15s\n"
     ]
    },
    {
     "name": "stdout",
     "output_type": "stream",
     "text": [
      "316:\tlearn: 0.1921770\ttotal: 35s\tremaining: 1m 15s\n",
      "317:\tlearn: 0.1919713\ttotal: 35.2s\tremaining: 1m 15s\n",
      "318:\tlearn: 0.1918594\ttotal: 35.3s\tremaining: 1m 15s\n",
      "319:\tlearn: 0.1916157\ttotal: 35.5s\tremaining: 1m 15s\n",
      "320:\tlearn: 0.1915837\ttotal: 35.5s\tremaining: 1m 15s\n",
      "321:\tlearn: 0.1913027\ttotal: 35.6s\tremaining: 1m 15s\n",
      "322:\tlearn: 0.1912049\ttotal: 35.8s\tremaining: 1m 15s\n",
      "323:\tlearn: 0.1909021\ttotal: 36s\tremaining: 1m 15s\n",
      "324:\tlearn: 0.1905915\ttotal: 36.1s\tremaining: 1m 15s\n",
      "325:\tlearn: 0.1902741\ttotal: 36.3s\tremaining: 1m 14s\n",
      "326:\tlearn: 0.1902232\ttotal: 36.3s\tremaining: 1m 14s\n",
      "327:\tlearn: 0.1900640\ttotal: 36.3s\tremaining: 1m 14s\n",
      "328:\tlearn: 0.1899377\ttotal: 36.5s\tremaining: 1m 14s\n",
      "329:\tlearn: 0.1898666\ttotal: 36.5s\tremaining: 1m 14s\n",
      "330:\tlearn: 0.1898058\ttotal: 36.5s\tremaining: 1m 13s\n",
      "331:\tlearn: 0.1893396\ttotal: 36.7s\tremaining: 1m 13s\n",
      "332:\tlearn: 0.1890323\ttotal: 36.8s\tremaining: 1m 13s\n",
      "333:\tlearn: 0.1888704\ttotal: 36.9s\tremaining: 1m 13s\n",
      "334:\tlearn: 0.1883724\ttotal: 37s\tremaining: 1m 13s\n",
      "335:\tlearn: 0.1883523\ttotal: 37.1s\tremaining: 1m 13s\n",
      "336:\tlearn: 0.1882595\ttotal: 37.2s\tremaining: 1m 13s\n",
      "337:\tlearn: 0.1879419\ttotal: 37.3s\tremaining: 1m 13s\n",
      "338:\tlearn: 0.1876722\ttotal: 37.5s\tremaining: 1m 13s\n",
      "339:\tlearn: 0.1872383\ttotal: 37.7s\tremaining: 1m 13s\n",
      "340:\tlearn: 0.1870037\ttotal: 37.8s\tremaining: 1m 13s\n",
      "341:\tlearn: 0.1866870\ttotal: 38s\tremaining: 1m 13s\n",
      "342:\tlearn: 0.1866626\ttotal: 38s\tremaining: 1m 12s\n",
      "343:\tlearn: 0.1863204\ttotal: 38.1s\tremaining: 1m 12s\n",
      "344:\tlearn: 0.1862845\ttotal: 38.2s\tremaining: 1m 12s\n",
      "345:\tlearn: 0.1862573\ttotal: 38.2s\tremaining: 1m 12s\n",
      "346:\tlearn: 0.1858359\ttotal: 38.4s\tremaining: 1m 12s\n",
      "347:\tlearn: 0.1858123\ttotal: 38.4s\tremaining: 1m 12s\n",
      "348:\tlearn: 0.1857459\ttotal: 38.6s\tremaining: 1m 12s\n",
      "349:\tlearn: 0.1856406\ttotal: 38.8s\tremaining: 1m 12s\n",
      "350:\tlearn: 0.1856137\ttotal: 38.8s\tremaining: 1m 11s\n",
      "351:\tlearn: 0.1851819\ttotal: 38.9s\tremaining: 1m 11s\n",
      "352:\tlearn: 0.1851426\ttotal: 38.9s\tremaining: 1m 11s\n",
      "353:\tlearn: 0.1847015\ttotal: 39.1s\tremaining: 1m 11s\n",
      "354:\tlearn: 0.1846123\ttotal: 39.3s\tremaining: 1m 11s\n",
      "355:\tlearn: 0.1845007\ttotal: 39.4s\tremaining: 1m 11s\n",
      "356:\tlearn: 0.1841430\ttotal: 39.6s\tremaining: 1m 11s\n",
      "357:\tlearn: 0.1839870\ttotal: 39.7s\tremaining: 1m 11s\n",
      "358:\tlearn: 0.1839801\ttotal: 39.7s\tremaining: 1m 10s\n",
      "359:\tlearn: 0.1838441\ttotal: 39.9s\tremaining: 1m 10s\n",
      "360:\tlearn: 0.1836065\ttotal: 40s\tremaining: 1m 10s\n",
      "361:\tlearn: 0.1835600\ttotal: 40s\tremaining: 1m 10s\n",
      "362:\tlearn: 0.1835287\ttotal: 40.1s\tremaining: 1m 10s\n",
      "363:\tlearn: 0.1834910\ttotal: 40.1s\tremaining: 1m 10s\n",
      "364:\tlearn: 0.1834031\ttotal: 40.1s\tremaining: 1m 9s\n",
      "365:\tlearn: 0.1831444\ttotal: 40.3s\tremaining: 1m 9s\n",
      "366:\tlearn: 0.1830297\ttotal: 40.4s\tremaining: 1m 9s\n",
      "367:\tlearn: 0.1829459\ttotal: 40.6s\tremaining: 1m 9s\n",
      "368:\tlearn: 0.1826566\ttotal: 40.7s\tremaining: 1m 9s\n",
      "369:\tlearn: 0.1824216\ttotal: 40.9s\tremaining: 1m 9s\n",
      "370:\tlearn: 0.1822801\ttotal: 40.9s\tremaining: 1m 9s\n",
      "371:\tlearn: 0.1822682\ttotal: 40.9s\tremaining: 1m 9s\n",
      "372:\tlearn: 0.1821582\ttotal: 41.1s\tremaining: 1m 9s\n",
      "373:\tlearn: 0.1819767\ttotal: 41.2s\tremaining: 1m 8s\n",
      "374:\tlearn: 0.1817764\ttotal: 41.3s\tremaining: 1m 8s\n",
      "375:\tlearn: 0.1817525\ttotal: 41.3s\tremaining: 1m 8s\n",
      "376:\tlearn: 0.1813963\ttotal: 41.5s\tremaining: 1m 8s\n",
      "377:\tlearn: 0.1813604\ttotal: 41.5s\tremaining: 1m 8s\n",
      "378:\tlearn: 0.1812499\ttotal: 41.6s\tremaining: 1m 8s\n",
      "379:\tlearn: 0.1811944\ttotal: 41.7s\tremaining: 1m 7s\n",
      "380:\tlearn: 0.1807992\ttotal: 41.8s\tremaining: 1m 7s\n",
      "381:\tlearn: 0.1807434\ttotal: 42s\tremaining: 1m 7s\n",
      "382:\tlearn: 0.1807375\ttotal: 42s\tremaining: 1m 7s\n",
      "383:\tlearn: 0.1805490\ttotal: 42.1s\tremaining: 1m 7s\n",
      "384:\tlearn: 0.1803446\ttotal: 42.3s\tremaining: 1m 7s\n",
      "385:\tlearn: 0.1798551\ttotal: 42.4s\tremaining: 1m 7s\n",
      "386:\tlearn: 0.1797501\ttotal: 42.6s\tremaining: 1m 7s\n",
      "387:\tlearn: 0.1797012\ttotal: 42.6s\tremaining: 1m 7s\n",
      "388:\tlearn: 0.1795985\ttotal: 42.7s\tremaining: 1m 6s\n",
      "389:\tlearn: 0.1795282\ttotal: 42.8s\tremaining: 1m 6s\n",
      "390:\tlearn: 0.1794643\ttotal: 43s\tremaining: 1m 6s\n",
      "391:\tlearn: 0.1793450\ttotal: 43s\tremaining: 1m 6s\n",
      "392:\tlearn: 0.1791233\ttotal: 43.1s\tremaining: 1m 6s\n",
      "393:\tlearn: 0.1788773\ttotal: 43.3s\tremaining: 1m 6s\n",
      "394:\tlearn: 0.1786621\ttotal: 43.4s\tremaining: 1m 6s\n",
      "395:\tlearn: 0.1783255\ttotal: 43.6s\tremaining: 1m 6s\n",
      "396:\tlearn: 0.1782553\ttotal: 43.7s\tremaining: 1m 6s\n",
      "397:\tlearn: 0.1780802\ttotal: 43.9s\tremaining: 1m 6s\n",
      "398:\tlearn: 0.1779364\ttotal: 44s\tremaining: 1m 6s\n",
      "399:\tlearn: 0.1778963\ttotal: 44.2s\tremaining: 1m 6s\n",
      "400:\tlearn: 0.1778691\ttotal: 44.2s\tremaining: 1m 6s\n",
      "401:\tlearn: 0.1776696\ttotal: 44.4s\tremaining: 1m 6s\n",
      "402:\tlearn: 0.1775799\ttotal: 44.4s\tremaining: 1m 5s\n",
      "403:\tlearn: 0.1775266\ttotal: 44.4s\tremaining: 1m 5s\n",
      "404:\tlearn: 0.1772995\ttotal: 44.6s\tremaining: 1m 5s\n",
      "405:\tlearn: 0.1771592\ttotal: 44.7s\tremaining: 1m 5s\n",
      "406:\tlearn: 0.1768220\ttotal: 44.9s\tremaining: 1m 5s\n",
      "407:\tlearn: 0.1767382\ttotal: 45s\tremaining: 1m 5s\n",
      "408:\tlearn: 0.1764517\ttotal: 45.2s\tremaining: 1m 5s\n",
      "409:\tlearn: 0.1764239\ttotal: 45.2s\tremaining: 1m 5s\n",
      "410:\tlearn: 0.1761668\ttotal: 45.4s\tremaining: 1m 4s\n",
      "411:\tlearn: 0.1756595\ttotal: 45.5s\tremaining: 1m 4s\n",
      "412:\tlearn: 0.1754872\ttotal: 45.7s\tremaining: 1m 4s\n",
      "413:\tlearn: 0.1753281\ttotal: 45.8s\tremaining: 1m 4s\n",
      "414:\tlearn: 0.1753199\ttotal: 45.8s\tremaining: 1m 4s\n",
      "415:\tlearn: 0.1749485\ttotal: 46s\tremaining: 1m 4s\n",
      "416:\tlearn: 0.1748839\ttotal: 46.1s\tremaining: 1m 4s\n",
      "417:\tlearn: 0.1747506\ttotal: 46.3s\tremaining: 1m 4s\n",
      "418:\tlearn: 0.1746953\ttotal: 46.4s\tremaining: 1m 4s\n",
      "419:\tlearn: 0.1746875\ttotal: 46.4s\tremaining: 1m 4s\n",
      "420:\tlearn: 0.1746691\ttotal: 46.5s\tremaining: 1m 3s\n",
      "421:\tlearn: 0.1745021\ttotal: 46.5s\tremaining: 1m 3s\n",
      "422:\tlearn: 0.1742791\ttotal: 46.7s\tremaining: 1m 3s\n",
      "423:\tlearn: 0.1740499\ttotal: 46.8s\tremaining: 1m 3s\n",
      "424:\tlearn: 0.1740113\ttotal: 47s\tremaining: 1m 3s\n",
      "425:\tlearn: 0.1738528\ttotal: 47.1s\tremaining: 1m 3s\n",
      "426:\tlearn: 0.1738002\ttotal: 47.3s\tremaining: 1m 3s\n",
      "427:\tlearn: 0.1736148\ttotal: 47.5s\tremaining: 1m 3s\n",
      "428:\tlearn: 0.1735894\ttotal: 47.6s\tremaining: 1m 3s\n",
      "429:\tlearn: 0.1735366\ttotal: 47.6s\tremaining: 1m 3s\n",
      "430:\tlearn: 0.1735167\ttotal: 47.6s\tremaining: 1m 2s\n",
      "431:\tlearn: 0.1733965\ttotal: 47.8s\tremaining: 1m 2s\n",
      "432:\tlearn: 0.1733089\ttotal: 47.8s\tremaining: 1m 2s\n",
      "433:\tlearn: 0.1732390\ttotal: 47.9s\tremaining: 1m 2s\n",
      "434:\tlearn: 0.1731178\ttotal: 48.1s\tremaining: 1m 2s\n",
      "435:\tlearn: 0.1730437\ttotal: 48.2s\tremaining: 1m 2s\n",
      "436:\tlearn: 0.1730245\ttotal: 48.2s\tremaining: 1m 2s\n",
      "437:\tlearn: 0.1728622\ttotal: 48.4s\tremaining: 1m 2s\n",
      "438:\tlearn: 0.1727391\ttotal: 48.5s\tremaining: 1m 2s\n",
      "439:\tlearn: 0.1726677\ttotal: 48.5s\tremaining: 1m 1s\n",
      "440:\tlearn: 0.1723230\ttotal: 48.7s\tremaining: 1m 1s\n",
      "441:\tlearn: 0.1721864\ttotal: 48.9s\tremaining: 1m 1s\n",
      "442:\tlearn: 0.1719000\ttotal: 49s\tremaining: 1m 1s\n",
      "443:\tlearn: 0.1717721\ttotal: 49.2s\tremaining: 1m 1s\n",
      "444:\tlearn: 0.1713768\ttotal: 49.3s\tremaining: 1m 1s\n",
      "445:\tlearn: 0.1713587\ttotal: 49.3s\tremaining: 1m 1s\n",
      "446:\tlearn: 0.1713233\ttotal: 49.5s\tremaining: 1m 1s\n",
      "447:\tlearn: 0.1712837\ttotal: 49.6s\tremaining: 1m 1s\n",
      "448:\tlearn: 0.1711096\ttotal: 49.8s\tremaining: 1m 1s\n",
      "449:\tlearn: 0.1708499\ttotal: 49.9s\tremaining: 1m 1s\n",
      "450:\tlearn: 0.1707813\ttotal: 50s\tremaining: 1m\n",
      "451:\tlearn: 0.1704937\ttotal: 50.1s\tremaining: 1m\n",
      "452:\tlearn: 0.1703627\ttotal: 50.3s\tremaining: 1m\n",
      "453:\tlearn: 0.1700357\ttotal: 50.4s\tremaining: 1m\n",
      "454:\tlearn: 0.1698527\ttotal: 50.6s\tremaining: 1m\n",
      "455:\tlearn: 0.1698271\ttotal: 50.7s\tremaining: 1m\n",
      "456:\tlearn: 0.1697965\ttotal: 50.9s\tremaining: 1m\n",
      "457:\tlearn: 0.1697116\ttotal: 51s\tremaining: 1m\n",
      "458:\tlearn: 0.1696715\ttotal: 51.1s\tremaining: 1m\n",
      "459:\tlearn: 0.1696313\ttotal: 51.3s\tremaining: 1m\n",
      "460:\tlearn: 0.1691697\ttotal: 51.4s\tremaining: 1m\n",
      "461:\tlearn: 0.1689538\ttotal: 51.6s\tremaining: 1m\n",
      "462:\tlearn: 0.1685744\ttotal: 51.7s\tremaining: 60s\n",
      "463:\tlearn: 0.1685602\ttotal: 51.7s\tremaining: 59.7s\n",
      "464:\tlearn: 0.1680308\ttotal: 51.9s\tremaining: 59.7s\n",
      "465:\tlearn: 0.1678530\ttotal: 52s\tremaining: 59.6s\n",
      "466:\tlearn: 0.1678123\ttotal: 52s\tremaining: 59.4s\n",
      "467:\tlearn: 0.1676018\ttotal: 52.2s\tremaining: 59.3s\n",
      "468:\tlearn: 0.1670832\ttotal: 52.3s\tremaining: 59.3s\n",
      "469:\tlearn: 0.1670645\ttotal: 52.3s\tremaining: 59s\n",
      "470:\tlearn: 0.1670361\ttotal: 52.4s\tremaining: 58.8s\n",
      "471:\tlearn: 0.1669755\ttotal: 52.5s\tremaining: 58.7s\n",
      "472:\tlearn: 0.1666519\ttotal: 52.7s\tremaining: 58.7s\n",
      "473:\tlearn: 0.1663640\ttotal: 52.8s\tremaining: 58.6s\n",
      "474:\tlearn: 0.1658924\ttotal: 53s\tremaining: 58.6s\n"
     ]
    },
    {
     "name": "stdout",
     "output_type": "stream",
     "text": [
      "475:\tlearn: 0.1658519\ttotal: 53.1s\tremaining: 58.5s\n",
      "476:\tlearn: 0.1658036\ttotal: 53.3s\tremaining: 58.4s\n",
      "477:\tlearn: 0.1657055\ttotal: 53.4s\tremaining: 58.4s\n",
      "478:\tlearn: 0.1656903\ttotal: 53.5s\tremaining: 58.1s\n",
      "479:\tlearn: 0.1652516\ttotal: 53.6s\tremaining: 58.1s\n",
      "480:\tlearn: 0.1652359\ttotal: 53.6s\tremaining: 57.8s\n",
      "481:\tlearn: 0.1652100\ttotal: 53.6s\tremaining: 57.6s\n",
      "482:\tlearn: 0.1648362\ttotal: 53.8s\tremaining: 57.5s\n",
      "483:\tlearn: 0.1647859\ttotal: 53.9s\tremaining: 57.5s\n",
      "484:\tlearn: 0.1645917\ttotal: 54.1s\tremaining: 57.4s\n",
      "485:\tlearn: 0.1645236\ttotal: 54.2s\tremaining: 57.3s\n",
      "486:\tlearn: 0.1642276\ttotal: 54.4s\tremaining: 57.3s\n",
      "487:\tlearn: 0.1640652\ttotal: 54.6s\tremaining: 57.3s\n",
      "488:\tlearn: 0.1636865\ttotal: 54.8s\tremaining: 57.2s\n",
      "489:\tlearn: 0.1635811\ttotal: 54.9s\tremaining: 57.2s\n",
      "490:\tlearn: 0.1635445\ttotal: 55.1s\tremaining: 57.1s\n",
      "491:\tlearn: 0.1635052\ttotal: 55.1s\tremaining: 56.9s\n",
      "492:\tlearn: 0.1634727\ttotal: 55.3s\tremaining: 56.8s\n",
      "493:\tlearn: 0.1634500\ttotal: 55.3s\tremaining: 56.6s\n",
      "494:\tlearn: 0.1633449\ttotal: 55.4s\tremaining: 56.5s\n",
      "495:\tlearn: 0.1630696\ttotal: 55.6s\tremaining: 56.5s\n",
      "496:\tlearn: 0.1624714\ttotal: 55.7s\tremaining: 56.4s\n",
      "497:\tlearn: 0.1621862\ttotal: 55.9s\tremaining: 56.3s\n",
      "498:\tlearn: 0.1621546\ttotal: 56s\tremaining: 56.3s\n",
      "499:\tlearn: 0.1618592\ttotal: 56.2s\tremaining: 56.2s\n",
      "500:\tlearn: 0.1613736\ttotal: 56.4s\tremaining: 56.1s\n",
      "501:\tlearn: 0.1609181\ttotal: 56.5s\tremaining: 56.1s\n",
      "502:\tlearn: 0.1605670\ttotal: 56.7s\tremaining: 56s\n",
      "503:\tlearn: 0.1602675\ttotal: 56.8s\tremaining: 55.9s\n",
      "504:\tlearn: 0.1602586\ttotal: 56.8s\tremaining: 55.7s\n",
      "505:\tlearn: 0.1599293\ttotal: 57s\tremaining: 55.6s\n",
      "506:\tlearn: 0.1597848\ttotal: 57.1s\tremaining: 55.6s\n",
      "507:\tlearn: 0.1595312\ttotal: 57.3s\tremaining: 55.5s\n",
      "508:\tlearn: 0.1594468\ttotal: 57.4s\tremaining: 55.4s\n",
      "509:\tlearn: 0.1594040\ttotal: 57.6s\tremaining: 55.3s\n",
      "510:\tlearn: 0.1593795\ttotal: 57.6s\tremaining: 55.1s\n",
      "511:\tlearn: 0.1590644\ttotal: 57.8s\tremaining: 55.1s\n",
      "512:\tlearn: 0.1589427\ttotal: 57.9s\tremaining: 55s\n",
      "513:\tlearn: 0.1585430\ttotal: 58.1s\tremaining: 54.9s\n",
      "514:\tlearn: 0.1582435\ttotal: 58.3s\tremaining: 54.9s\n",
      "515:\tlearn: 0.1582205\ttotal: 58.4s\tremaining: 54.8s\n",
      "516:\tlearn: 0.1578304\ttotal: 58.6s\tremaining: 54.8s\n",
      "517:\tlearn: 0.1577284\ttotal: 58.8s\tremaining: 54.7s\n",
      "518:\tlearn: 0.1576776\ttotal: 58.9s\tremaining: 54.6s\n",
      "519:\tlearn: 0.1576433\ttotal: 59.1s\tremaining: 54.6s\n",
      "520:\tlearn: 0.1573502\ttotal: 59.3s\tremaining: 54.5s\n",
      "521:\tlearn: 0.1572951\ttotal: 59.5s\tremaining: 54.4s\n",
      "522:\tlearn: 0.1569131\ttotal: 59.6s\tremaining: 54.4s\n",
      "523:\tlearn: 0.1567676\ttotal: 59.8s\tremaining: 54.3s\n",
      "524:\tlearn: 0.1567552\ttotal: 59.8s\tremaining: 54.1s\n",
      "525:\tlearn: 0.1567340\ttotal: 59.8s\tremaining: 53.9s\n",
      "526:\tlearn: 0.1563191\ttotal: 59.9s\tremaining: 53.8s\n",
      "527:\tlearn: 0.1561583\ttotal: 1m\tremaining: 53.7s\n",
      "528:\tlearn: 0.1561236\ttotal: 1m\tremaining: 53.7s\n",
      "529:\tlearn: 0.1559354\ttotal: 1m\tremaining: 53.6s\n",
      "530:\tlearn: 0.1557492\ttotal: 1m\tremaining: 53.5s\n",
      "531:\tlearn: 0.1557119\ttotal: 1m\tremaining: 53.5s\n",
      "532:\tlearn: 0.1556319\ttotal: 1m\tremaining: 53.4s\n",
      "533:\tlearn: 0.1553809\ttotal: 1m 1s\tremaining: 53.3s\n",
      "534:\tlearn: 0.1549784\ttotal: 1m 1s\tremaining: 53.3s\n",
      "535:\tlearn: 0.1546716\ttotal: 1m 1s\tremaining: 53.2s\n",
      "536:\tlearn: 0.1544552\ttotal: 1m 1s\tremaining: 53.1s\n",
      "537:\tlearn: 0.1544114\ttotal: 1m 1s\tremaining: 53s\n",
      "538:\tlearn: 0.1543835\ttotal: 1m 1s\tremaining: 52.9s\n",
      "539:\tlearn: 0.1543658\ttotal: 1m 1s\tremaining: 52.8s\n",
      "540:\tlearn: 0.1540569\ttotal: 1m 2s\tremaining: 52.7s\n",
      "541:\tlearn: 0.1539410\ttotal: 1m 2s\tremaining: 52.6s\n",
      "542:\tlearn: 0.1535958\ttotal: 1m 2s\tremaining: 52.5s\n",
      "543:\tlearn: 0.1533036\ttotal: 1m 2s\tremaining: 52.5s\n",
      "544:\tlearn: 0.1528517\ttotal: 1m 2s\tremaining: 52.4s\n",
      "545:\tlearn: 0.1528196\ttotal: 1m 2s\tremaining: 52.3s\n",
      "546:\tlearn: 0.1526033\ttotal: 1m 3s\tremaining: 52.2s\n",
      "547:\tlearn: 0.1525524\ttotal: 1m 3s\tremaining: 52.2s\n",
      "548:\tlearn: 0.1522020\ttotal: 1m 3s\tremaining: 52.1s\n",
      "549:\tlearn: 0.1518230\ttotal: 1m 3s\tremaining: 52s\n",
      "550:\tlearn: 0.1516532\ttotal: 1m 3s\tremaining: 52s\n",
      "551:\tlearn: 0.1513484\ttotal: 1m 3s\tremaining: 51.9s\n",
      "552:\tlearn: 0.1513108\ttotal: 1m 4s\tremaining: 51.8s\n",
      "553:\tlearn: 0.1510852\ttotal: 1m 4s\tremaining: 51.7s\n",
      "554:\tlearn: 0.1509012\ttotal: 1m 4s\tremaining: 51.6s\n",
      "555:\tlearn: 0.1507681\ttotal: 1m 4s\tremaining: 51.6s\n",
      "556:\tlearn: 0.1504630\ttotal: 1m 4s\tremaining: 51.5s\n",
      "557:\tlearn: 0.1502134\ttotal: 1m 4s\tremaining: 51.4s\n",
      "558:\tlearn: 0.1500553\ttotal: 1m 5s\tremaining: 51.3s\n",
      "559:\tlearn: 0.1499970\ttotal: 1m 5s\tremaining: 51.2s\n",
      "560:\tlearn: 0.1498567\ttotal: 1m 5s\tremaining: 51.1s\n",
      "561:\tlearn: 0.1497655\ttotal: 1m 5s\tremaining: 51.1s\n",
      "562:\tlearn: 0.1495713\ttotal: 1m 5s\tremaining: 51s\n",
      "563:\tlearn: 0.1495432\ttotal: 1m 5s\tremaining: 50.9s\n",
      "564:\tlearn: 0.1493288\ttotal: 1m 5s\tremaining: 50.8s\n",
      "565:\tlearn: 0.1492415\ttotal: 1m 6s\tremaining: 50.7s\n",
      "566:\tlearn: 0.1490525\ttotal: 1m 6s\tremaining: 50.6s\n",
      "567:\tlearn: 0.1487268\ttotal: 1m 6s\tremaining: 50.5s\n",
      "568:\tlearn: 0.1485669\ttotal: 1m 6s\tremaining: 50.4s\n",
      "569:\tlearn: 0.1482512\ttotal: 1m 6s\tremaining: 50.4s\n",
      "570:\tlearn: 0.1480208\ttotal: 1m 6s\tremaining: 50.3s\n",
      "571:\tlearn: 0.1478633\ttotal: 1m 7s\tremaining: 50.2s\n",
      "572:\tlearn: 0.1478335\ttotal: 1m 7s\tremaining: 50.1s\n",
      "573:\tlearn: 0.1476104\ttotal: 1m 7s\tremaining: 50s\n",
      "574:\tlearn: 0.1475778\ttotal: 1m 7s\tremaining: 49.9s\n",
      "575:\tlearn: 0.1475447\ttotal: 1m 7s\tremaining: 49.9s\n",
      "576:\tlearn: 0.1471812\ttotal: 1m 7s\tremaining: 49.8s\n",
      "577:\tlearn: 0.1470521\ttotal: 1m 8s\tremaining: 49.7s\n",
      "578:\tlearn: 0.1470123\ttotal: 1m 8s\tremaining: 49.6s\n",
      "579:\tlearn: 0.1468421\ttotal: 1m 8s\tremaining: 49.5s\n",
      "580:\tlearn: 0.1468100\ttotal: 1m 8s\tremaining: 49.4s\n",
      "581:\tlearn: 0.1464534\ttotal: 1m 8s\tremaining: 49.3s\n",
      "582:\tlearn: 0.1463333\ttotal: 1m 8s\tremaining: 49.2s\n",
      "583:\tlearn: 0.1462767\ttotal: 1m 8s\tremaining: 49.1s\n",
      "584:\tlearn: 0.1462469\ttotal: 1m 9s\tremaining: 49s\n",
      "585:\tlearn: 0.1460295\ttotal: 1m 9s\tremaining: 48.9s\n",
      "586:\tlearn: 0.1459406\ttotal: 1m 9s\tremaining: 48.8s\n",
      "587:\tlearn: 0.1457012\ttotal: 1m 9s\tremaining: 48.8s\n",
      "588:\tlearn: 0.1456635\ttotal: 1m 9s\tremaining: 48.7s\n",
      "589:\tlearn: 0.1452874\ttotal: 1m 9s\tremaining: 48.6s\n",
      "590:\tlearn: 0.1451871\ttotal: 1m 10s\tremaining: 48.5s\n",
      "591:\tlearn: 0.1447585\ttotal: 1m 10s\tremaining: 48.4s\n",
      "592:\tlearn: 0.1445711\ttotal: 1m 10s\tremaining: 48.3s\n",
      "593:\tlearn: 0.1444271\ttotal: 1m 10s\tremaining: 48.2s\n",
      "594:\tlearn: 0.1443958\ttotal: 1m 10s\tremaining: 48.1s\n",
      "595:\tlearn: 0.1443636\ttotal: 1m 10s\tremaining: 48s\n",
      "596:\tlearn: 0.1440248\ttotal: 1m 10s\tremaining: 47.9s\n",
      "597:\tlearn: 0.1437189\ttotal: 1m 11s\tremaining: 47.8s\n",
      "598:\tlearn: 0.1434827\ttotal: 1m 11s\tremaining: 47.7s\n",
      "599:\tlearn: 0.1433521\ttotal: 1m 11s\tremaining: 47.6s\n",
      "600:\tlearn: 0.1429693\ttotal: 1m 11s\tremaining: 47.5s\n",
      "601:\tlearn: 0.1426424\ttotal: 1m 11s\tremaining: 47.5s\n",
      "602:\tlearn: 0.1422936\ttotal: 1m 11s\tremaining: 47.4s\n",
      "603:\tlearn: 0.1421915\ttotal: 1m 12s\tremaining: 47.3s\n",
      "604:\tlearn: 0.1421576\ttotal: 1m 12s\tremaining: 47.2s\n",
      "605:\tlearn: 0.1420231\ttotal: 1m 12s\tremaining: 47.1s\n",
      "606:\tlearn: 0.1416555\ttotal: 1m 12s\tremaining: 47s\n",
      "607:\tlearn: 0.1414418\ttotal: 1m 12s\tremaining: 46.9s\n",
      "608:\tlearn: 0.1410815\ttotal: 1m 12s\tremaining: 46.8s\n",
      "609:\tlearn: 0.1410179\ttotal: 1m 13s\tremaining: 46.7s\n",
      "610:\tlearn: 0.1409324\ttotal: 1m 13s\tremaining: 46.6s\n",
      "611:\tlearn: 0.1409039\ttotal: 1m 13s\tremaining: 46.5s\n",
      "612:\tlearn: 0.1408343\ttotal: 1m 13s\tremaining: 46.4s\n",
      "613:\tlearn: 0.1407226\ttotal: 1m 13s\tremaining: 46.3s\n",
      "614:\tlearn: 0.1407018\ttotal: 1m 13s\tremaining: 46.2s\n",
      "615:\tlearn: 0.1404351\ttotal: 1m 13s\tremaining: 46.1s\n",
      "616:\tlearn: 0.1402885\ttotal: 1m 14s\tremaining: 46s\n",
      "617:\tlearn: 0.1399361\ttotal: 1m 14s\tremaining: 45.9s\n",
      "618:\tlearn: 0.1398753\ttotal: 1m 14s\tremaining: 45.8s\n",
      "619:\tlearn: 0.1397539\ttotal: 1m 14s\tremaining: 45.7s\n",
      "620:\tlearn: 0.1395428\ttotal: 1m 14s\tremaining: 45.6s\n",
      "621:\tlearn: 0.1392050\ttotal: 1m 14s\tremaining: 45.5s\n",
      "622:\tlearn: 0.1390774\ttotal: 1m 15s\tremaining: 45.4s\n",
      "623:\tlearn: 0.1389140\ttotal: 1m 15s\tremaining: 45.3s\n",
      "624:\tlearn: 0.1388978\ttotal: 1m 15s\tremaining: 45.2s\n",
      "625:\tlearn: 0.1387595\ttotal: 1m 15s\tremaining: 45.1s\n",
      "626:\tlearn: 0.1386156\ttotal: 1m 15s\tremaining: 45s\n",
      "627:\tlearn: 0.1384649\ttotal: 1m 15s\tremaining: 44.9s\n",
      "628:\tlearn: 0.1384502\ttotal: 1m 15s\tremaining: 44.8s\n",
      "629:\tlearn: 0.1383058\ttotal: 1m 16s\tremaining: 44.7s\n",
      "630:\tlearn: 0.1379955\ttotal: 1m 16s\tremaining: 44.6s\n",
      "631:\tlearn: 0.1377165\ttotal: 1m 16s\tremaining: 44.5s\n",
      "632:\tlearn: 0.1374312\ttotal: 1m 16s\tremaining: 44.4s\n"
     ]
    },
    {
     "name": "stdout",
     "output_type": "stream",
     "text": [
      "633:\tlearn: 0.1373250\ttotal: 1m 16s\tremaining: 44.3s\n",
      "634:\tlearn: 0.1371542\ttotal: 1m 16s\tremaining: 44.2s\n",
      "635:\tlearn: 0.1368881\ttotal: 1m 17s\tremaining: 44.1s\n",
      "636:\tlearn: 0.1366827\ttotal: 1m 17s\tremaining: 44s\n",
      "637:\tlearn: 0.1366665\ttotal: 1m 17s\tremaining: 43.9s\n",
      "638:\tlearn: 0.1363987\ttotal: 1m 17s\tremaining: 43.8s\n",
      "639:\tlearn: 0.1363348\ttotal: 1m 17s\tremaining: 43.7s\n",
      "640:\tlearn: 0.1360951\ttotal: 1m 17s\tremaining: 43.6s\n",
      "641:\tlearn: 0.1358820\ttotal: 1m 18s\tremaining: 43.5s\n",
      "642:\tlearn: 0.1358029\ttotal: 1m 18s\tremaining: 43.4s\n",
      "643:\tlearn: 0.1355822\ttotal: 1m 18s\tremaining: 43.3s\n",
      "644:\tlearn: 0.1354846\ttotal: 1m 18s\tremaining: 43.2s\n",
      "645:\tlearn: 0.1354405\ttotal: 1m 18s\tremaining: 43.1s\n",
      "646:\tlearn: 0.1351806\ttotal: 1m 18s\tremaining: 43s\n",
      "647:\tlearn: 0.1351588\ttotal: 1m 18s\tremaining: 42.9s\n",
      "648:\tlearn: 0.1349635\ttotal: 1m 19s\tremaining: 42.8s\n",
      "649:\tlearn: 0.1348653\ttotal: 1m 19s\tremaining: 42.7s\n",
      "650:\tlearn: 0.1346434\ttotal: 1m 19s\tremaining: 42.6s\n",
      "651:\tlearn: 0.1343431\ttotal: 1m 19s\tremaining: 42.5s\n",
      "652:\tlearn: 0.1341737\ttotal: 1m 19s\tremaining: 42.4s\n",
      "653:\tlearn: 0.1340550\ttotal: 1m 19s\tremaining: 42.3s\n",
      "654:\tlearn: 0.1337911\ttotal: 1m 20s\tremaining: 42.2s\n",
      "655:\tlearn: 0.1336606\ttotal: 1m 20s\tremaining: 42.1s\n",
      "656:\tlearn: 0.1333947\ttotal: 1m 20s\tremaining: 42s\n",
      "657:\tlearn: 0.1333790\ttotal: 1m 20s\tremaining: 41.9s\n",
      "658:\tlearn: 0.1332493\ttotal: 1m 20s\tremaining: 41.8s\n",
      "659:\tlearn: 0.1332337\ttotal: 1m 20s\tremaining: 41.6s\n",
      "660:\tlearn: 0.1330775\ttotal: 1m 21s\tremaining: 41.5s\n",
      "661:\tlearn: 0.1328686\ttotal: 1m 21s\tremaining: 41.4s\n",
      "662:\tlearn: 0.1328027\ttotal: 1m 21s\tremaining: 41.3s\n",
      "663:\tlearn: 0.1327808\ttotal: 1m 21s\tremaining: 41.2s\n",
      "664:\tlearn: 0.1326630\ttotal: 1m 21s\tremaining: 41.1s\n",
      "665:\tlearn: 0.1324107\ttotal: 1m 21s\tremaining: 41s\n",
      "666:\tlearn: 0.1322417\ttotal: 1m 21s\tremaining: 40.9s\n",
      "667:\tlearn: 0.1321838\ttotal: 1m 22s\tremaining: 40.8s\n",
      "668:\tlearn: 0.1321489\ttotal: 1m 22s\tremaining: 40.7s\n",
      "669:\tlearn: 0.1320080\ttotal: 1m 22s\tremaining: 40.6s\n",
      "670:\tlearn: 0.1319868\ttotal: 1m 22s\tremaining: 40.5s\n",
      "671:\tlearn: 0.1318314\ttotal: 1m 22s\tremaining: 40.4s\n",
      "672:\tlearn: 0.1316936\ttotal: 1m 22s\tremaining: 40.3s\n",
      "673:\tlearn: 0.1314807\ttotal: 1m 23s\tremaining: 40.2s\n",
      "674:\tlearn: 0.1313315\ttotal: 1m 23s\tremaining: 40.1s\n",
      "675:\tlearn: 0.1312535\ttotal: 1m 23s\tremaining: 39.9s\n",
      "676:\tlearn: 0.1310574\ttotal: 1m 23s\tremaining: 39.8s\n",
      "677:\tlearn: 0.1308435\ttotal: 1m 23s\tremaining: 39.7s\n",
      "678:\tlearn: 0.1306521\ttotal: 1m 23s\tremaining: 39.6s\n",
      "679:\tlearn: 0.1306227\ttotal: 1m 23s\tremaining: 39.5s\n",
      "680:\tlearn: 0.1305669\ttotal: 1m 24s\tremaining: 39.4s\n",
      "681:\tlearn: 0.1305309\ttotal: 1m 24s\tremaining: 39.3s\n",
      "682:\tlearn: 0.1304335\ttotal: 1m 24s\tremaining: 39.2s\n",
      "683:\tlearn: 0.1303480\ttotal: 1m 24s\tremaining: 39.1s\n",
      "684:\tlearn: 0.1302459\ttotal: 1m 24s\tremaining: 39s\n",
      "685:\tlearn: 0.1301360\ttotal: 1m 24s\tremaining: 38.9s\n",
      "686:\tlearn: 0.1300041\ttotal: 1m 25s\tremaining: 38.8s\n",
      "687:\tlearn: 0.1299292\ttotal: 1m 25s\tremaining: 38.6s\n",
      "688:\tlearn: 0.1298481\ttotal: 1m 25s\tremaining: 38.5s\n",
      "689:\tlearn: 0.1296903\ttotal: 1m 25s\tremaining: 38.4s\n",
      "690:\tlearn: 0.1296034\ttotal: 1m 25s\tremaining: 38.3s\n",
      "691:\tlearn: 0.1294346\ttotal: 1m 25s\tremaining: 38.2s\n",
      "692:\tlearn: 0.1292021\ttotal: 1m 25s\tremaining: 38.1s\n",
      "693:\tlearn: 0.1291833\ttotal: 1m 26s\tremaining: 38s\n",
      "694:\tlearn: 0.1290153\ttotal: 1m 26s\tremaining: 37.9s\n",
      "695:\tlearn: 0.1288112\ttotal: 1m 26s\tremaining: 37.8s\n",
      "696:\tlearn: 0.1287929\ttotal: 1m 26s\tremaining: 37.7s\n",
      "697:\tlearn: 0.1285232\ttotal: 1m 26s\tremaining: 37.5s\n",
      "698:\tlearn: 0.1285070\ttotal: 1m 26s\tremaining: 37.4s\n",
      "699:\tlearn: 0.1284892\ttotal: 1m 27s\tremaining: 37.3s\n",
      "700:\tlearn: 0.1283438\ttotal: 1m 27s\tremaining: 37.2s\n",
      "701:\tlearn: 0.1282014\ttotal: 1m 27s\tremaining: 37.1s\n",
      "702:\tlearn: 0.1280237\ttotal: 1m 27s\tremaining: 37s\n",
      "703:\tlearn: 0.1278327\ttotal: 1m 27s\tremaining: 36.9s\n",
      "704:\tlearn: 0.1277928\ttotal: 1m 27s\tremaining: 36.8s\n",
      "705:\tlearn: 0.1276154\ttotal: 1m 28s\tremaining: 36.6s\n",
      "706:\tlearn: 0.1273831\ttotal: 1m 28s\tremaining: 36.5s\n",
      "707:\tlearn: 0.1272616\ttotal: 1m 28s\tremaining: 36.4s\n",
      "708:\tlearn: 0.1271110\ttotal: 1m 28s\tremaining: 36.3s\n",
      "709:\tlearn: 0.1270087\ttotal: 1m 28s\tremaining: 36.2s\n",
      "710:\tlearn: 0.1269769\ttotal: 1m 28s\tremaining: 36.1s\n",
      "711:\tlearn: 0.1269615\ttotal: 1m 28s\tremaining: 36s\n",
      "712:\tlearn: 0.1269330\ttotal: 1m 29s\tremaining: 35.9s\n",
      "713:\tlearn: 0.1267988\ttotal: 1m 29s\tremaining: 35.7s\n",
      "714:\tlearn: 0.1266791\ttotal: 1m 29s\tremaining: 35.6s\n",
      "715:\tlearn: 0.1265898\ttotal: 1m 29s\tremaining: 35.5s\n",
      "716:\tlearn: 0.1263786\ttotal: 1m 29s\tremaining: 35.4s\n",
      "717:\tlearn: 0.1263531\ttotal: 1m 29s\tremaining: 35.3s\n",
      "718:\tlearn: 0.1260759\ttotal: 1m 30s\tremaining: 35.2s\n",
      "719:\tlearn: 0.1260582\ttotal: 1m 30s\tremaining: 35.1s\n",
      "720:\tlearn: 0.1260278\ttotal: 1m 30s\tremaining: 35s\n",
      "721:\tlearn: 0.1258718\ttotal: 1m 30s\tremaining: 34.9s\n",
      "722:\tlearn: 0.1258032\ttotal: 1m 30s\tremaining: 34.7s\n",
      "723:\tlearn: 0.1257721\ttotal: 1m 30s\tremaining: 34.6s\n",
      "724:\tlearn: 0.1255730\ttotal: 1m 30s\tremaining: 34.5s\n",
      "725:\tlearn: 0.1255138\ttotal: 1m 31s\tremaining: 34.4s\n",
      "726:\tlearn: 0.1253491\ttotal: 1m 31s\tremaining: 34.3s\n",
      "727:\tlearn: 0.1251424\ttotal: 1m 31s\tremaining: 34.2s\n",
      "728:\tlearn: 0.1249866\ttotal: 1m 31s\tremaining: 34.1s\n",
      "729:\tlearn: 0.1248043\ttotal: 1m 31s\tremaining: 34s\n",
      "730:\tlearn: 0.1247930\ttotal: 1m 31s\tremaining: 33.8s\n",
      "731:\tlearn: 0.1247308\ttotal: 1m 32s\tremaining: 33.7s\n",
      "732:\tlearn: 0.1247197\ttotal: 1m 32s\tremaining: 33.6s\n",
      "733:\tlearn: 0.1246947\ttotal: 1m 32s\tremaining: 33.5s\n",
      "734:\tlearn: 0.1244656\ttotal: 1m 32s\tremaining: 33.4s\n",
      "735:\tlearn: 0.1242560\ttotal: 1m 32s\tremaining: 33.3s\n",
      "736:\tlearn: 0.1242278\ttotal: 1m 32s\tremaining: 33.1s\n",
      "737:\tlearn: 0.1241271\ttotal: 1m 33s\tremaining: 33s\n",
      "738:\tlearn: 0.1240834\ttotal: 1m 33s\tremaining: 32.9s\n",
      "739:\tlearn: 0.1240494\ttotal: 1m 33s\tremaining: 32.8s\n",
      "740:\tlearn: 0.1240126\ttotal: 1m 33s\tremaining: 32.7s\n",
      "741:\tlearn: 0.1239193\ttotal: 1m 33s\tremaining: 32.6s\n",
      "742:\tlearn: 0.1238546\ttotal: 1m 33s\tremaining: 32.5s\n",
      "743:\tlearn: 0.1238262\ttotal: 1m 33s\tremaining: 32.3s\n",
      "744:\tlearn: 0.1237663\ttotal: 1m 34s\tremaining: 32.2s\n",
      "745:\tlearn: 0.1237358\ttotal: 1m 34s\tremaining: 32.1s\n",
      "746:\tlearn: 0.1234857\ttotal: 1m 34s\tremaining: 32s\n",
      "747:\tlearn: 0.1234746\ttotal: 1m 34s\tremaining: 31.9s\n",
      "748:\tlearn: 0.1234475\ttotal: 1m 34s\tremaining: 31.8s\n",
      "749:\tlearn: 0.1233809\ttotal: 1m 34s\tremaining: 31.6s\n",
      "750:\tlearn: 0.1233657\ttotal: 1m 35s\tremaining: 31.5s\n",
      "751:\tlearn: 0.1233057\ttotal: 1m 35s\tremaining: 31.4s\n",
      "752:\tlearn: 0.1232210\ttotal: 1m 35s\tremaining: 31.3s\n",
      "753:\tlearn: 0.1231635\ttotal: 1m 35s\tremaining: 31.2s\n",
      "754:\tlearn: 0.1230513\ttotal: 1m 35s\tremaining: 31s\n",
      "755:\tlearn: 0.1229999\ttotal: 1m 35s\tremaining: 30.9s\n",
      "756:\tlearn: 0.1229724\ttotal: 1m 35s\tremaining: 30.8s\n",
      "757:\tlearn: 0.1228261\ttotal: 1m 36s\tremaining: 30.7s\n",
      "758:\tlearn: 0.1227635\ttotal: 1m 36s\tremaining: 30.6s\n",
      "759:\tlearn: 0.1225301\ttotal: 1m 36s\tremaining: 30.5s\n",
      "760:\tlearn: 0.1223575\ttotal: 1m 36s\tremaining: 30.3s\n",
      "761:\tlearn: 0.1223200\ttotal: 1m 36s\tremaining: 30.2s\n",
      "762:\tlearn: 0.1221182\ttotal: 1m 36s\tremaining: 30.1s\n",
      "763:\tlearn: 0.1220790\ttotal: 1m 37s\tremaining: 30s\n",
      "764:\tlearn: 0.1220550\ttotal: 1m 37s\tremaining: 29.9s\n",
      "765:\tlearn: 0.1218792\ttotal: 1m 37s\tremaining: 29.7s\n",
      "766:\tlearn: 0.1217865\ttotal: 1m 37s\tremaining: 29.6s\n",
      "767:\tlearn: 0.1216017\ttotal: 1m 37s\tremaining: 29.5s\n",
      "768:\tlearn: 0.1214705\ttotal: 1m 37s\tremaining: 29.4s\n",
      "769:\tlearn: 0.1214088\ttotal: 1m 37s\tremaining: 29.3s\n",
      "770:\tlearn: 0.1212261\ttotal: 1m 38s\tremaining: 29.2s\n",
      "771:\tlearn: 0.1210695\ttotal: 1m 38s\tremaining: 29s\n",
      "772:\tlearn: 0.1210155\ttotal: 1m 38s\tremaining: 28.9s\n",
      "773:\tlearn: 0.1209600\ttotal: 1m 38s\tremaining: 28.8s\n",
      "774:\tlearn: 0.1209454\ttotal: 1m 38s\tremaining: 28.7s\n",
      "775:\tlearn: 0.1209166\ttotal: 1m 38s\tremaining: 28.6s\n",
      "776:\tlearn: 0.1208890\ttotal: 1m 39s\tremaining: 28.4s\n",
      "777:\tlearn: 0.1207656\ttotal: 1m 39s\tremaining: 28.3s\n",
      "778:\tlearn: 0.1206402\ttotal: 1m 39s\tremaining: 28.2s\n",
      "779:\tlearn: 0.1205701\ttotal: 1m 39s\tremaining: 28.1s\n",
      "780:\tlearn: 0.1205206\ttotal: 1m 39s\tremaining: 28s\n",
      "781:\tlearn: 0.1204063\ttotal: 1m 39s\tremaining: 27.8s\n",
      "782:\tlearn: 0.1203917\ttotal: 1m 40s\tremaining: 27.7s\n",
      "783:\tlearn: 0.1202786\ttotal: 1m 40s\tremaining: 27.6s\n",
      "784:\tlearn: 0.1202648\ttotal: 1m 40s\tremaining: 27.5s\n",
      "785:\tlearn: 0.1201506\ttotal: 1m 40s\tremaining: 27.4s\n",
      "786:\tlearn: 0.1200308\ttotal: 1m 40s\tremaining: 27.2s\n",
      "787:\tlearn: 0.1199845\ttotal: 1m 40s\tremaining: 27.1s\n",
      "788:\tlearn: 0.1197482\ttotal: 1m 40s\tremaining: 27s\n"
     ]
    },
    {
     "name": "stdout",
     "output_type": "stream",
     "text": [
      "789:\tlearn: 0.1196698\ttotal: 1m 41s\tremaining: 26.9s\n",
      "790:\tlearn: 0.1195860\ttotal: 1m 41s\tremaining: 26.8s\n",
      "791:\tlearn: 0.1195422\ttotal: 1m 41s\tremaining: 26.6s\n",
      "792:\tlearn: 0.1194771\ttotal: 1m 41s\tremaining: 26.5s\n",
      "793:\tlearn: 0.1194365\ttotal: 1m 41s\tremaining: 26.4s\n",
      "794:\tlearn: 0.1192497\ttotal: 1m 41s\tremaining: 26.3s\n",
      "795:\tlearn: 0.1192361\ttotal: 1m 42s\tremaining: 26.2s\n",
      "796:\tlearn: 0.1190737\ttotal: 1m 42s\tremaining: 26s\n",
      "797:\tlearn: 0.1189473\ttotal: 1m 42s\tremaining: 25.9s\n",
      "798:\tlearn: 0.1188379\ttotal: 1m 42s\tremaining: 25.8s\n",
      "799:\tlearn: 0.1187907\ttotal: 1m 42s\tremaining: 25.7s\n",
      "800:\tlearn: 0.1187237\ttotal: 1m 42s\tremaining: 25.5s\n",
      "801:\tlearn: 0.1186502\ttotal: 1m 42s\tremaining: 25.4s\n",
      "802:\tlearn: 0.1185398\ttotal: 1m 43s\tremaining: 25.3s\n",
      "803:\tlearn: 0.1184464\ttotal: 1m 43s\tremaining: 25.2s\n",
      "804:\tlearn: 0.1183710\ttotal: 1m 43s\tremaining: 25.1s\n",
      "805:\tlearn: 0.1183483\ttotal: 1m 43s\tremaining: 24.9s\n",
      "806:\tlearn: 0.1181805\ttotal: 1m 43s\tremaining: 24.8s\n",
      "807:\tlearn: 0.1181248\ttotal: 1m 43s\tremaining: 24.7s\n",
      "808:\tlearn: 0.1181106\ttotal: 1m 44s\tremaining: 24.6s\n",
      "809:\tlearn: 0.1180164\ttotal: 1m 44s\tremaining: 24.5s\n",
      "810:\tlearn: 0.1179955\ttotal: 1m 44s\tremaining: 24.3s\n",
      "811:\tlearn: 0.1179756\ttotal: 1m 44s\tremaining: 24.2s\n",
      "812:\tlearn: 0.1178806\ttotal: 1m 44s\tremaining: 24.1s\n",
      "813:\tlearn: 0.1176532\ttotal: 1m 44s\tremaining: 24s\n",
      "814:\tlearn: 0.1174420\ttotal: 1m 45s\tremaining: 23.8s\n",
      "815:\tlearn: 0.1173047\ttotal: 1m 45s\tremaining: 23.7s\n",
      "816:\tlearn: 0.1171805\ttotal: 1m 45s\tremaining: 23.6s\n",
      "817:\tlearn: 0.1170325\ttotal: 1m 45s\tremaining: 23.5s\n",
      "818:\tlearn: 0.1169283\ttotal: 1m 45s\tremaining: 23.3s\n",
      "819:\tlearn: 0.1167867\ttotal: 1m 45s\tremaining: 23.2s\n",
      "820:\tlearn: 0.1166965\ttotal: 1m 45s\tremaining: 23.1s\n",
      "821:\tlearn: 0.1164985\ttotal: 1m 46s\tremaining: 23s\n",
      "822:\tlearn: 0.1164518\ttotal: 1m 46s\tremaining: 22.9s\n",
      "823:\tlearn: 0.1163883\ttotal: 1m 46s\tremaining: 22.7s\n",
      "824:\tlearn: 0.1163693\ttotal: 1m 46s\tremaining: 22.6s\n",
      "825:\tlearn: 0.1163222\ttotal: 1m 46s\tremaining: 22.5s\n",
      "826:\tlearn: 0.1161302\ttotal: 1m 46s\tremaining: 22.4s\n",
      "827:\tlearn: 0.1159564\ttotal: 1m 47s\tremaining: 22.2s\n",
      "828:\tlearn: 0.1159350\ttotal: 1m 47s\tremaining: 22.1s\n",
      "829:\tlearn: 0.1158073\ttotal: 1m 47s\tremaining: 22s\n",
      "830:\tlearn: 0.1156615\ttotal: 1m 47s\tremaining: 21.9s\n",
      "831:\tlearn: 0.1155608\ttotal: 1m 47s\tremaining: 21.7s\n",
      "832:\tlearn: 0.1155410\ttotal: 1m 47s\tremaining: 21.6s\n",
      "833:\tlearn: 0.1155262\ttotal: 1m 47s\tremaining: 21.5s\n",
      "834:\tlearn: 0.1153743\ttotal: 1m 48s\tremaining: 21.4s\n",
      "835:\tlearn: 0.1151837\ttotal: 1m 48s\tremaining: 21.2s\n",
      "836:\tlearn: 0.1151402\ttotal: 1m 48s\tremaining: 21.1s\n",
      "837:\tlearn: 0.1151125\ttotal: 1m 48s\tremaining: 21s\n",
      "838:\tlearn: 0.1150376\ttotal: 1m 48s\tremaining: 20.9s\n",
      "839:\tlearn: 0.1148710\ttotal: 1m 48s\tremaining: 20.7s\n",
      "840:\tlearn: 0.1147744\ttotal: 1m 49s\tremaining: 20.6s\n",
      "841:\tlearn: 0.1147383\ttotal: 1m 49s\tremaining: 20.5s\n",
      "842:\tlearn: 0.1146098\ttotal: 1m 49s\tremaining: 20.4s\n",
      "843:\tlearn: 0.1145302\ttotal: 1m 49s\tremaining: 20.2s\n",
      "844:\tlearn: 0.1145031\ttotal: 1m 49s\tremaining: 20.1s\n",
      "845:\tlearn: 0.1144468\ttotal: 1m 49s\tremaining: 20s\n",
      "846:\tlearn: 0.1143281\ttotal: 1m 49s\tremaining: 19.9s\n",
      "847:\tlearn: 0.1142301\ttotal: 1m 50s\tremaining: 19.7s\n",
      "848:\tlearn: 0.1142060\ttotal: 1m 50s\tremaining: 19.6s\n",
      "849:\tlearn: 0.1141582\ttotal: 1m 50s\tremaining: 19.5s\n",
      "850:\tlearn: 0.1141321\ttotal: 1m 50s\tremaining: 19.4s\n",
      "851:\tlearn: 0.1140854\ttotal: 1m 50s\tremaining: 19.2s\n",
      "852:\tlearn: 0.1140361\ttotal: 1m 50s\tremaining: 19.1s\n",
      "853:\tlearn: 0.1140221\ttotal: 1m 51s\tremaining: 19s\n",
      "854:\tlearn: 0.1139330\ttotal: 1m 51s\tremaining: 18.9s\n",
      "855:\tlearn: 0.1138709\ttotal: 1m 51s\tremaining: 18.7s\n",
      "856:\tlearn: 0.1138501\ttotal: 1m 51s\tremaining: 18.6s\n",
      "857:\tlearn: 0.1136559\ttotal: 1m 51s\tremaining: 18.5s\n",
      "858:\tlearn: 0.1135930\ttotal: 1m 51s\tremaining: 18.4s\n",
      "859:\tlearn: 0.1133978\ttotal: 1m 51s\tremaining: 18.2s\n",
      "860:\tlearn: 0.1133524\ttotal: 1m 52s\tremaining: 18.1s\n",
      "861:\tlearn: 0.1133071\ttotal: 1m 52s\tremaining: 18s\n",
      "862:\tlearn: 0.1132637\ttotal: 1m 52s\tremaining: 17.9s\n",
      "863:\tlearn: 0.1132109\ttotal: 1m 52s\tremaining: 17.7s\n",
      "864:\tlearn: 0.1131794\ttotal: 1m 52s\tremaining: 17.6s\n",
      "865:\tlearn: 0.1131463\ttotal: 1m 52s\tremaining: 17.5s\n",
      "866:\tlearn: 0.1131261\ttotal: 1m 53s\tremaining: 17.3s\n",
      "867:\tlearn: 0.1130839\ttotal: 1m 53s\tremaining: 17.2s\n",
      "868:\tlearn: 0.1130730\ttotal: 1m 53s\tremaining: 17.1s\n",
      "869:\tlearn: 0.1130288\ttotal: 1m 53s\tremaining: 17s\n",
      "870:\tlearn: 0.1129975\ttotal: 1m 53s\tremaining: 16.8s\n",
      "871:\tlearn: 0.1129158\ttotal: 1m 53s\tremaining: 16.7s\n",
      "872:\tlearn: 0.1128953\ttotal: 1m 54s\tremaining: 16.6s\n",
      "873:\tlearn: 0.1128863\ttotal: 1m 54s\tremaining: 16.5s\n",
      "874:\tlearn: 0.1128057\ttotal: 1m 54s\tremaining: 16.3s\n",
      "875:\tlearn: 0.1127739\ttotal: 1m 54s\tremaining: 16.2s\n",
      "876:\tlearn: 0.1126751\ttotal: 1m 54s\tremaining: 16.1s\n",
      "877:\tlearn: 0.1126673\ttotal: 1m 54s\tremaining: 15.9s\n",
      "878:\tlearn: 0.1126233\ttotal: 1m 54s\tremaining: 15.8s\n",
      "879:\tlearn: 0.1126130\ttotal: 1m 55s\tremaining: 15.7s\n",
      "880:\tlearn: 0.1125281\ttotal: 1m 55s\tremaining: 15.6s\n",
      "881:\tlearn: 0.1125025\ttotal: 1m 55s\tremaining: 15.4s\n",
      "882:\tlearn: 0.1124035\ttotal: 1m 55s\tremaining: 15.3s\n",
      "883:\tlearn: 0.1122270\ttotal: 1m 55s\tremaining: 15.2s\n",
      "884:\tlearn: 0.1121881\ttotal: 1m 55s\tremaining: 15.1s\n",
      "885:\tlearn: 0.1121102\ttotal: 1m 56s\tremaining: 14.9s\n",
      "886:\tlearn: 0.1120912\ttotal: 1m 56s\tremaining: 14.8s\n",
      "887:\tlearn: 0.1119355\ttotal: 1m 56s\tremaining: 14.7s\n",
      "888:\tlearn: 0.1118894\ttotal: 1m 56s\tremaining: 14.5s\n",
      "889:\tlearn: 0.1117798\ttotal: 1m 56s\tremaining: 14.4s\n",
      "890:\tlearn: 0.1117607\ttotal: 1m 56s\tremaining: 14.3s\n",
      "891:\tlearn: 0.1116092\ttotal: 1m 56s\tremaining: 14.2s\n",
      "892:\tlearn: 0.1115614\ttotal: 1m 57s\tremaining: 14s\n",
      "893:\tlearn: 0.1115202\ttotal: 1m 57s\tremaining: 13.9s\n",
      "894:\tlearn: 0.1115018\ttotal: 1m 57s\tremaining: 13.8s\n",
      "895:\tlearn: 0.1114607\ttotal: 1m 57s\tremaining: 13.7s\n",
      "896:\tlearn: 0.1114152\ttotal: 1m 57s\tremaining: 13.5s\n",
      "897:\tlearn: 0.1113744\ttotal: 1m 57s\tremaining: 13.4s\n",
      "898:\tlearn: 0.1113282\ttotal: 1m 58s\tremaining: 13.3s\n",
      "899:\tlearn: 0.1112052\ttotal: 1m 58s\tremaining: 13.1s\n",
      "900:\tlearn: 0.1111774\ttotal: 1m 58s\tremaining: 13s\n",
      "901:\tlearn: 0.1111590\ttotal: 1m 58s\tremaining: 12.9s\n",
      "902:\tlearn: 0.1110002\ttotal: 1m 58s\tremaining: 12.7s\n",
      "903:\tlearn: 0.1109472\ttotal: 1m 58s\tremaining: 12.6s\n",
      "904:\tlearn: 0.1108448\ttotal: 1m 59s\tremaining: 12.5s\n",
      "905:\tlearn: 0.1108128\ttotal: 1m 59s\tremaining: 12.4s\n",
      "906:\tlearn: 0.1108051\ttotal: 1m 59s\tremaining: 12.2s\n",
      "907:\tlearn: 0.1107807\ttotal: 1m 59s\tremaining: 12.1s\n",
      "908:\tlearn: 0.1107746\ttotal: 1m 59s\tremaining: 12s\n",
      "909:\tlearn: 0.1107242\ttotal: 1m 59s\tremaining: 11.8s\n",
      "910:\tlearn: 0.1106709\ttotal: 1m 59s\tremaining: 11.7s\n",
      "911:\tlearn: 0.1106082\ttotal: 2m\tremaining: 11.6s\n",
      "912:\tlearn: 0.1105520\ttotal: 2m\tremaining: 11.5s\n",
      "913:\tlearn: 0.1104302\ttotal: 2m\tremaining: 11.3s\n",
      "914:\tlearn: 0.1103787\ttotal: 2m\tremaining: 11.2s\n",
      "915:\tlearn: 0.1102134\ttotal: 2m\tremaining: 11.1s\n",
      "916:\tlearn: 0.1101630\ttotal: 2m\tremaining: 10.9s\n",
      "917:\tlearn: 0.1100213\ttotal: 2m 1s\tremaining: 10.8s\n",
      "918:\tlearn: 0.1099803\ttotal: 2m 1s\tremaining: 10.7s\n",
      "919:\tlearn: 0.1098208\ttotal: 2m 1s\tremaining: 10.6s\n",
      "920:\tlearn: 0.1097540\ttotal: 2m 1s\tremaining: 10.4s\n",
      "921:\tlearn: 0.1097382\ttotal: 2m 1s\tremaining: 10.3s\n",
      "922:\tlearn: 0.1096211\ttotal: 2m 1s\tremaining: 10.2s\n",
      "923:\tlearn: 0.1095738\ttotal: 2m 1s\tremaining: 10s\n",
      "924:\tlearn: 0.1095126\ttotal: 2m 2s\tremaining: 9.9s\n",
      "925:\tlearn: 0.1094692\ttotal: 2m 2s\tremaining: 9.77s\n",
      "926:\tlearn: 0.1094292\ttotal: 2m 2s\tremaining: 9.64s\n",
      "927:\tlearn: 0.1093743\ttotal: 2m 2s\tremaining: 9.51s\n",
      "928:\tlearn: 0.1093026\ttotal: 2m 2s\tremaining: 9.38s\n",
      "929:\tlearn: 0.1092135\ttotal: 2m 2s\tremaining: 9.25s\n",
      "930:\tlearn: 0.1091190\ttotal: 2m 3s\tremaining: 9.12s\n",
      "931:\tlearn: 0.1091032\ttotal: 2m 3s\tremaining: 8.99s\n",
      "932:\tlearn: 0.1090370\ttotal: 2m 3s\tremaining: 8.86s\n",
      "933:\tlearn: 0.1089690\ttotal: 2m 3s\tremaining: 8.73s\n",
      "934:\tlearn: 0.1087800\ttotal: 2m 3s\tremaining: 8.6s\n",
      "935:\tlearn: 0.1087327\ttotal: 2m 3s\tremaining: 8.47s\n",
      "936:\tlearn: 0.1086945\ttotal: 2m 4s\tremaining: 8.34s\n",
      "937:\tlearn: 0.1085199\ttotal: 2m 4s\tremaining: 8.21s\n",
      "938:\tlearn: 0.1084390\ttotal: 2m 4s\tremaining: 8.08s\n",
      "939:\tlearn: 0.1084240\ttotal: 2m 4s\tremaining: 7.95s\n",
      "940:\tlearn: 0.1083866\ttotal: 2m 4s\tremaining: 7.82s\n",
      "941:\tlearn: 0.1082978\ttotal: 2m 4s\tremaining: 7.68s\n",
      "942:\tlearn: 0.1081315\ttotal: 2m 4s\tremaining: 7.55s\n",
      "943:\tlearn: 0.1080539\ttotal: 2m 5s\tremaining: 7.42s\n",
      "944:\tlearn: 0.1080393\ttotal: 2m 5s\tremaining: 7.29s\n",
      "945:\tlearn: 0.1080196\ttotal: 2m 5s\tremaining: 7.16s\n",
      "946:\tlearn: 0.1079959\ttotal: 2m 5s\tremaining: 7.03s\n"
     ]
    },
    {
     "name": "stdout",
     "output_type": "stream",
     "text": [
      "947:\tlearn: 0.1079062\ttotal: 2m 5s\tremaining: 6.9s\n",
      "948:\tlearn: 0.1078656\ttotal: 2m 5s\tremaining: 6.77s\n",
      "949:\tlearn: 0.1077198\ttotal: 2m 6s\tremaining: 6.63s\n",
      "950:\tlearn: 0.1076868\ttotal: 2m 6s\tremaining: 6.5s\n",
      "951:\tlearn: 0.1075254\ttotal: 2m 6s\tremaining: 6.37s\n",
      "952:\tlearn: 0.1075091\ttotal: 2m 6s\tremaining: 6.24s\n",
      "953:\tlearn: 0.1074542\ttotal: 2m 6s\tremaining: 6.11s\n",
      "954:\tlearn: 0.1073813\ttotal: 2m 6s\tremaining: 5.98s\n",
      "955:\tlearn: 0.1073621\ttotal: 2m 7s\tremaining: 5.85s\n",
      "956:\tlearn: 0.1072583\ttotal: 2m 7s\tremaining: 5.71s\n",
      "957:\tlearn: 0.1072247\ttotal: 2m 7s\tremaining: 5.58s\n",
      "958:\tlearn: 0.1071963\ttotal: 2m 7s\tremaining: 5.45s\n",
      "959:\tlearn: 0.1071197\ttotal: 2m 7s\tremaining: 5.32s\n",
      "960:\tlearn: 0.1070726\ttotal: 2m 7s\tremaining: 5.19s\n",
      "961:\tlearn: 0.1069904\ttotal: 2m 7s\tremaining: 5.05s\n",
      "962:\tlearn: 0.1069024\ttotal: 2m 8s\tremaining: 4.92s\n",
      "963:\tlearn: 0.1067949\ttotal: 2m 8s\tremaining: 4.79s\n",
      "964:\tlearn: 0.1066954\ttotal: 2m 8s\tremaining: 4.66s\n",
      "965:\tlearn: 0.1066501\ttotal: 2m 8s\tremaining: 4.53s\n",
      "966:\tlearn: 0.1065981\ttotal: 2m 8s\tremaining: 4.39s\n",
      "967:\tlearn: 0.1065560\ttotal: 2m 8s\tremaining: 4.26s\n",
      "968:\tlearn: 0.1064786\ttotal: 2m 9s\tremaining: 4.13s\n",
      "969:\tlearn: 0.1063359\ttotal: 2m 9s\tremaining: 4s\n",
      "970:\tlearn: 0.1063207\ttotal: 2m 9s\tremaining: 3.86s\n",
      "971:\tlearn: 0.1062930\ttotal: 2m 9s\tremaining: 3.73s\n",
      "972:\tlearn: 0.1062748\ttotal: 2m 9s\tremaining: 3.6s\n",
      "973:\tlearn: 0.1061603\ttotal: 2m 9s\tremaining: 3.46s\n",
      "974:\tlearn: 0.1060660\ttotal: 2m 9s\tremaining: 3.33s\n",
      "975:\tlearn: 0.1059920\ttotal: 2m 10s\tremaining: 3.2s\n",
      "976:\tlearn: 0.1058531\ttotal: 2m 10s\tremaining: 3.07s\n",
      "977:\tlearn: 0.1057844\ttotal: 2m 10s\tremaining: 2.93s\n",
      "978:\tlearn: 0.1057231\ttotal: 2m 10s\tremaining: 2.8s\n",
      "979:\tlearn: 0.1056741\ttotal: 2m 10s\tremaining: 2.67s\n",
      "980:\tlearn: 0.1056382\ttotal: 2m 10s\tremaining: 2.54s\n",
      "981:\tlearn: 0.1056236\ttotal: 2m 11s\tremaining: 2.4s\n",
      "982:\tlearn: 0.1055540\ttotal: 2m 11s\tremaining: 2.27s\n",
      "983:\tlearn: 0.1054264\ttotal: 2m 11s\tremaining: 2.14s\n",
      "984:\tlearn: 0.1053650\ttotal: 2m 11s\tremaining: 2s\n",
      "985:\tlearn: 0.1052302\ttotal: 2m 11s\tremaining: 1.87s\n",
      "986:\tlearn: 0.1052025\ttotal: 2m 11s\tremaining: 1.74s\n",
      "987:\tlearn: 0.1051401\ttotal: 2m 12s\tremaining: 1.6s\n",
      "988:\tlearn: 0.1051081\ttotal: 2m 12s\tremaining: 1.47s\n",
      "989:\tlearn: 0.1050922\ttotal: 2m 12s\tremaining: 1.34s\n",
      "990:\tlearn: 0.1050156\ttotal: 2m 12s\tremaining: 1.2s\n",
      "991:\tlearn: 0.1049847\ttotal: 2m 12s\tremaining: 1.07s\n",
      "992:\tlearn: 0.1048598\ttotal: 2m 12s\tremaining: 936ms\n",
      "993:\tlearn: 0.1047926\ttotal: 2m 12s\tremaining: 802ms\n",
      "994:\tlearn: 0.1047662\ttotal: 2m 13s\tremaining: 669ms\n",
      "995:\tlearn: 0.1047013\ttotal: 2m 13s\tremaining: 535ms\n",
      "996:\tlearn: 0.1046853\ttotal: 2m 13s\tremaining: 401ms\n",
      "997:\tlearn: 0.1046520\ttotal: 2m 13s\tremaining: 268ms\n",
      "998:\tlearn: 0.1046042\ttotal: 2m 13s\tremaining: 134ms\n",
      "999:\tlearn: 0.1045696\ttotal: 2m 13s\tremaining: 0us\n"
     ]
    },
    {
     "data": {
      "text/plain": [
       "<catboost.core.CatBoostClassifier at 0x7fdcc5176760>"
      ]
     },
     "execution_count": 39,
     "metadata": {},
     "output_type": "execute_result"
    }
   ],
   "source": [
    "from catboost import CatBoostClassifier\n",
    "#entrenar mauina predectiva \n",
    "Maquina_predictiva= CatBoostClassifier(n_estimators=1000, max_depth=16, random_state=7)                \n",
    "Maquina_predictiva.fit(x_train, y_train)"
   ]
  },
  {
   "cell_type": "code",
   "execution_count": 40,
   "metadata": {},
   "outputs": [
    {
     "name": "stdout",
     "output_type": "stream",
     "text": [
      "acuraci de os datos de teste:86.592%\n"
     ]
    }
   ],
   "source": [
    "#predicoes=Maquina_predictiva.predict_prova(x_test)\n",
    "#score do modelo test\n",
    "result= Maquina_predictiva.score(x_test, y_test)\n",
    "print(\"acuraci de os datos de teste:%.3f%%\" %(result*100.0))"
   ]
  },
  {
   "cell_type": "code",
   "execution_count": 41,
   "metadata": {},
   "outputs": [
    {
     "name": "stdout",
     "output_type": "stream",
     "text": [
      "              precision    recall  f1-score   support\n",
      "\n",
      "           0       0.89      0.96      0.93      1740\n",
      "           1       0.30      0.11      0.16       229\n",
      "\n",
      "    accuracy                           0.87      1969\n",
      "   macro avg       0.60      0.54      0.55      1969\n",
      "weighted avg       0.82      0.87      0.84      1969\n",
      "\n",
      "[[1679   61]\n",
      " [ 203   26]]\n",
      "0.8659217877094972\n"
     ]
    }
   ],
   "source": [
    "predi_catboost = Maquina_predictiva.predict(x_test)\n",
    "print(classification_report(y_test, predi_catboost))\n",
    "print(confusion_matrix(y_test, predi_catboost))\n",
    "print(accuracy_score(y_test, predi_catboost))"
   ]
  },
  {
   "cell_type": "code",
   "execution_count": 42,
   "metadata": {},
   "outputs": [
    {
     "data": {
      "image/png": "[encoded data removed]",
      "text/plain": [
       "<Figure size 432x288 with 2 Axes>"
      ]
     },
     "metadata": {
      "needs_background": "light"
     },
     "output_type": "display_data"
    }
   ],
   "source": [
    "group_names = ['True Neg','False Pos','False Neg','True Pos']\n",
    "\n",
    "group_counts = [\"{0:0.0f}\".format(value) for value in\n",
    "               confusion_matrix(y_test, predi_catboost).flatten()]\n",
    "\n",
    "group_percentages = [\"{0:.2%}\".format(value) for value in\n",
    "                     confusion_matrix(y_test, predi_catboost).flatten()/np.sum(confusion_matrix(y_test, predi_catboost))]\n",
    "\n",
    "labels = [f\"{v1}\\n{v2}\\n{v3}\" for v1, v2, v3 in\n",
    "          zip(group_names,group_counts,group_percentages)]\n",
    "\n",
    "labels = np.asarray(labels).reshape(2,2)\n",
    "\n",
    "ax = sns.heatmap(confusion_matrix(y_test, predi_catboost), annot=labels, fmt='', cmap='Blues')\n",
    "\n",
    "ax.set_title('Confusion Matrix with catboost\\n\\n');\n",
    "ax.set_xlabel('\\nPredicted Values')\n",
    "ax.set_ylabel('Actual Values ');\n",
    "\n",
    "## Ticket labels - List must be in alphabetical order\n",
    "ax.xaxis.set_ticklabels(['False','True'])\n",
    "ax.yaxis.set_ticklabels(['False','True'])\n",
    "\n",
    "## Display the visualization of the Confusion Matrix.\n",
    "plt.savefig(r\"/media/lbcb/Roberton/elkin /articulo_ tuberculosis /new_Calculs/confusion_matrix_catboost.svg\")\n",
    "plt.show()"
   ]
  },
  {
   "cell_type": "code",
   "execution_count": 79,
   "metadata": {},
   "outputs": [
    {
     "data": {
      "text/plain": [
       "array([2.50287881e+00, 2.33854182e+00, 5.11783160e-02, 1.30971409e-04,\n",
       "       4.24616424e-02, 1.00929751e-02, 1.17832162e+00, 1.60420928e+00,\n",
       "       0.00000000e+00, 2.52207654e+00, 1.03822877e-01, 6.88836731e-01,\n",
       "       1.07461968e-03, 0.00000000e+00, 4.56857792e-01, 2.68234043e+00,\n",
       "       1.58806536e+00, 4.23006287e-01, 6.45937619e-01, 1.46412918e+00,\n",
       "       1.63283493e-04, 3.45526611e-05, 6.48654310e-02, 5.32483037e-02,\n",
       "       0.00000000e+00, 1.21401529e-02, 1.80346371e-01, 3.01825141e-01,\n",
       "       9.92238450e-06, 6.55623358e-03, 1.84327034e-05, 4.75697321e-03,\n",
       "       8.85573887e-04, 0.00000000e+00, 1.61071125e-02, 3.20183365e-05,\n",
       "       1.27481223e-03, 1.11735335e-04, 2.52907319e-02, 1.35581583e-02,\n",
       "       2.83290140e-06, 8.71431027e-02, 6.89063125e-03, 4.38590811e-05,\n",
       "       5.68818716e-01, 0.00000000e+00, 1.33779377e-04, 4.77489560e-01,\n",
       "       0.00000000e+00, 0.00000000e+00, 1.36238323e-03, 3.55432190e-03,\n",
       "       4.83445449e-03, 0.00000000e+00, 4.51951663e-04, 6.31224232e-04,\n",
       "       2.56356962e-04, 7.32839903e-01, 0.00000000e+00, 3.01795783e-02,\n",
       "       4.02268242e-01, 2.35286244e-01, 4.68879900e-01, 1.04605769e-03,\n",
       "       2.51646231e-03, 5.21954649e-04, 0.00000000e+00, 0.00000000e+00,\n",
       "       0.00000000e+00, 2.77868151e-02, 2.31194333e-05, 5.83298956e-04,\n",
       "       8.81807059e-05, 1.94942196e-03, 7.05147383e-03, 9.57691896e-03,\n",
       "       4.80894746e-03, 0.00000000e+00, 7.30847545e-03, 4.75065202e-06,\n",
       "       1.55510721e-06, 0.00000000e+00, 2.96142311e-02, 2.87053338e-05,\n",
       "       6.25636358e-05, 3.15560137e-02, 0.00000000e+00, 3.74489584e-02,\n",
       "       2.69018225e-05, 1.81170271e-02, 6.38039411e-02, 8.63485258e-02,\n",
       "       6.64337966e-02, 1.38447136e-02, 3.91154960e-04, 1.08762451e-03,\n",
       "       0.00000000e+00, 2.76515108e-02, 1.18212336e+00, 1.01390511e-01,\n",
       "       1.18778561e+00, 0.00000000e+00, 1.21636533e-04, 1.24460999e-02,\n",
       "       0.00000000e+00, 3.48297101e-03, 2.73143972e-03, 7.14978744e-05,\n",
       "       7.23961972e-01, 9.55832511e-02, 3.38836043e-02, 2.48777055e-01,\n",
       "       4.07500948e-01, 1.64523759e-05, 5.33487026e-03, 1.87692077e-02,\n",
       "       1.76569742e-02, 4.21553475e-05, 6.90704310e-05, 1.61191247e-01,\n",
       "       9.30810143e-07, 2.42404883e-02, 3.62996768e-02, 1.06385146e-05,\n",
       "       7.08736997e-03, 0.00000000e+00, 1.62021029e-01, 3.51399252e-02,\n",
       "       8.41249079e-03, 3.65230974e-01, 4.24223496e-05, 0.00000000e+00,\n",
       "       2.74397905e-04, 2.56099289e-04, 9.00679821e-04, 2.74317713e-04,\n",
       "       0.00000000e+00, 4.23635966e-03, 3.59191500e-03, 1.57681631e-04,\n",
       "       1.15502220e+00, 5.65090767e-03, 1.89063153e+00, 6.22798812e-01,\n",
       "       3.37118807e-02, 1.70492542e+00, 8.26275960e-03, 7.11953259e-01,\n",
       "       4.30010610e-01, 6.83479768e-02, 0.00000000e+00, 3.94489664e+00,\n",
       "       2.96253877e-03, 3.65685349e+00, 1.62759217e+00, 1.84547272e+00,\n",
       "       1.60545760e+00, 4.23447522e-01, 3.09791782e+00, 1.21638272e-02,\n",
       "       4.20387799e-04, 4.21491592e+01, 2.06737086e-03, 2.39280396e+00,\n",
       "       4.41403921e-05, 1.36969095e-03, 1.00739965e+00, 1.01245989e+00,\n",
       "       1.38341400e-02, 2.67216062e-02, 9.71792079e-02, 3.77998967e-02,\n",
       "       1.30840693e+00, 2.29743777e-01, 5.32274805e-01, 2.70856098e-01,\n",
       "       1.93284441e-01, 1.55058189e-02, 1.89462885e-01, 4.24136109e-02,\n",
       "       2.94985619e-01, 3.66719163e-02])"
      ]
     },
     "execution_count": 79,
     "metadata": {},
     "output_type": "execute_result"
    }
   ],
   "source": [
    "#determinação das variables máis importantes\n",
    "Maquina_predictiva.feature_importances_"
   ]
  },
  {
   "cell_type": "code",
   "execution_count": 43,
   "metadata": {},
   "outputs": [],
   "source": [
    "feature_CatBoost2 = pd.Series(Maquina_predictiva.feature_importances_,index=x_train.columns).sort_values(ascending=False)\n",
    "feature_CatBoost2.to_excel(r'/media/lbcb/Roberton/elkin /articulo_ tuberculosis /new_Calculs/imagenens/catboost.xlsx')"
   ]
  },
  {
   "cell_type": "code",
   "execution_count": 44,
   "metadata": {},
   "outputs": [],
   "source": [
    "from sklearn.neighbors import KNeighborsClassifier\n",
    "knn = KNeighborsClassifier(n_neighbors=4)"
   ]
  },
  {
   "cell_type": "code",
   "execution_count": 45,
   "metadata": {},
   "outputs": [
    {
     "data": {
      "text/plain": [
       "KNeighborsClassifier(n_neighbors=4)"
      ]
     },
     "execution_count": 45,
     "metadata": {},
     "output_type": "execute_result"
    }
   ],
   "source": [
    "knn.fit(x_train, y_train)"
   ]
  },
  {
   "cell_type": "code",
   "execution_count": 46,
   "metadata": {},
   "outputs": [
    {
     "name": "stdout",
     "output_type": "stream",
     "text": [
      "              precision    recall  f1-score   support\n",
      "\n",
      "           0       0.89      0.99      0.93      1740\n",
      "           1       0.29      0.04      0.08       229\n",
      "\n",
      "    accuracy                           0.88      1969\n",
      "   macro avg       0.59      0.51      0.50      1969\n",
      "weighted avg       0.82      0.88      0.83      1969\n",
      "\n",
      "[[1715   25]\n",
      " [ 219   10]]\n",
      "0.8760792280345353\n"
     ]
    }
   ],
   "source": [
    "predi_knn = knn.predict(x_test)\n",
    "print(classification_report(y_test, predi_knn ))\n",
    "print(confusion_matrix(y_test, predi_knn ))\n",
    "print(accuracy_score(y_test, predi_knn ))"
   ]
  },
  {
   "cell_type": "code",
   "execution_count": 47,
   "metadata": {},
   "outputs": [
    {
     "data": {
      "image/png": "[encoded data removed]",
      "text/plain": [
       "<Figure size 432x288 with 2 Axes>"
      ]
     },
     "metadata": {
      "needs_background": "light"
     },
     "output_type": "display_data"
    }
   ],
   "source": [
    "group_names = ['True Neg','False Pos','False Neg','True Pos']\n",
    "\n",
    "group_counts = [\"{0:0.0f}\".format(value) for value in\n",
    "               confusion_matrix(y_test, predi_knn ).flatten()]\n",
    "\n",
    "group_percentages = [\"{0:.2%}\".format(value) for value in\n",
    "                    confusion_matrix(y_test, predi_knn ).flatten()/np.sum( confusion_matrix(y_test, predi_knn ))]\n",
    "\n",
    "labels = [f\"{v1}\\n{v2}\\n{v3}\" for v1, v2, v3 in\n",
    "          zip(group_names,group_counts,group_percentages)]\n",
    "\n",
    "labels = np.asarray(labels).reshape(2,2)\n",
    "\n",
    "ax = sns.heatmap(confusion_matrix(y_test, predi_knn ), annot=labels, fmt='', cmap='Blues')\n",
    "\n",
    "ax.set_title('Confusion Matrix with knn\\n\\n');\n",
    "ax.set_xlabel('\\nPredicted Values')\n",
    "ax.set_ylabel('Actual Values ');\n",
    "\n",
    "## Ticket labels - List must be in alphabetical order\n",
    "ax.xaxis.set_ticklabels(['False','True'])\n",
    "ax.yaxis.set_ticklabels(['False','True'])\n",
    "plt.savefig(r\"/media/lbcb/Roberton/elkin /articulo_ tuberculosis /new_Calculs/confusion_matrix_knn.svg\")\n",
    "## Display the visualization of the Confusion Matrix.\n",
    "plt.show()"
   ]
  },
  {
   "cell_type": "code",
   "execution_count": 49,
   "metadata": {},
   "outputs": [],
   "source": [
    "import sklearn\n",
    "from sklearn.model_selection import train_test_split\n",
    "import numpy as np\n",
    "import shap\n"
   ]
  },
  {
   "cell_type": "code",
   "execution_count": 51,
   "metadata": {},
   "outputs": [],
   "source": [
    "# permutation feature importance with knn for regression\n",
    "from sklearn.datasets import make_regression\n",
    "from sklearn.neighbors import KNeighborsRegressor\n",
    "from sklearn.inspection import permutation_importance\n",
    "from matplotlib import pyplot"
   ]
  },
  {
   "cell_type": "code",
   "execution_count": null,
   "metadata": {},
   "outputs": [],
   "source": [
    "#from sklearn.inspection import permutation_importance\n",
    "\n",
    "\n",
    "# perform permutation importance\n",
    "results = permutation_importance(knn,x_test, y_test, scoring='accuracy')\n",
    "# get importance\n",
    "importance = results.importances_mean\n",
    "#importance=np.sort(importance)\n",
    "# summarize feature importance\n",
    "for i,v in enumerate(importance):\n",
    "    print('Feature: {}  Score: {}' .format(i,v))\n",
    "# plot feature importance\n",
    "pyplot.bar([x for x in range(len(importance))] ,importance)\n",
    "pyplot.show()"
   ]
  },
  {
   "cell_type": "code",
   "execution_count": null,
   "metadata": {},
   "outputs": [],
   "source": []
  },
  {
   "cell_type": "code",
   "execution_count": 37,
   "metadata": {},
   "outputs": [
    {
     "name": "stdout",
     "output_type": "stream",
     "text": [
      "Minimum error:- 0.11630269172168614 at K = 25\n"
     ]
    },
    {
     "data": {
      "image/png": "[encoded data removed]",
      "text/plain": [
       "<Figure size 720x432 with 1 Axes>"
      ]
     },
     "metadata": {
      "needs_background": "light"
     },
     "output_type": "display_data"
    }
   ],
   "source": [
    "Ks = 40\n",
    "error_rate = []\n",
    "# Will take some time\n",
    "for i in range(1,40):\n",
    " \n",
    " knn = KNeighborsClassifier(n_neighbors=i)\n",
    " knn.fit(x_train,y_train)\n",
    " pred_i = knn.predict(x_test)\n",
    " error_rate.append(np.mean(pred_i != y_test))\n",
    "\n",
    "plt.figure(figsize=(10,6))\n",
    "plt.plot(range(1,40),error_rate,color='blue', linestyle='dashed', marker='o',markerfacecolor='red', markersize=10)\n",
    "plt.title('Error Rate vs. K Value')\n",
    "plt.xlabel('K')\n",
    "plt.ylabel('Error Rate')\n",
    "\n",
    "print(\"Minimum error:-\",min(error_rate),\"at K =\",error_rate.index(min(error_rate)))\n",
    "#https://github.com/Amey23/Machine-Learning/blob/master/K-Nearest%20Neighbor/knn.ipynb"
   ]
  },
  {
   "cell_type": "code",
   "execution_count": 39,
   "metadata": {},
   "outputs": [],
   "source": [
    "acc = []\n",
    "# Will take some time\n",
    "from sklearn import metrics\n",
    "for i in range(1,40):\n",
    "    neigh = KNeighborsClassifier(n_neighbors = i).fit(x_train,y_train)\n",
    "    yhat = neigh.predict(x_test)\n",
    "    acc.append(metrics.accuracy_score(y_test, yhat))"
   ]
  },
  {
   "cell_type": "code",
   "execution_count": 40,
   "metadata": {},
   "outputs": [
    {
     "name": "stdout",
     "output_type": "stream",
     "text": [
      "Maximum accuracy:- 0.8836973082783138 at K = 25\n"
     ]
    },
    {
     "data": {
      "image/png": "[encoded data removed]",
      "text/plain": [
       "<Figure size 720x432 with 1 Axes>"
      ]
     },
     "metadata": {
      "needs_background": "light"
     },
     "output_type": "display_data"
    }
   ],
   "source": [
    "plt.figure(figsize=(10,6))\n",
    "plt.plot(range(1,40),acc,color = 'blue',linestyle='dashed', marker='o',markerfacecolor='red', markersize=10)\n",
    "plt.title('accuracy vs. K Value')\n",
    "plt.xlabel('K')\n",
    "plt.ylabel('Accuracy')\n",
    "\n",
    "print(\"Maximum accuracy:-\",max(acc),\"at K =\",acc.index(max(acc)))\n",
    "#https://github.com/Amey23/Machine-Learning/tree/master/K-Nearest%20Neighbor"
   ]
  },
  {
   "cell_type": "code",
   "execution_count": 99,
   "metadata": {},
   "outputs": [
    {
     "name": "stdout",
     "output_type": "stream",
     "text": [
      "Confusion Matrix:\n",
      "[[1731    9]\n",
      " [ 227    2]]\n",
      "Classification Report:\n",
      "              precision    recall  f1-score   support\n",
      "\n",
      "           0       0.88      0.99      0.94      1740\n",
      "           1       0.18      0.01      0.02       229\n",
      "\n",
      "    accuracy                           0.88      1969\n",
      "   macro avg       0.53      0.50      0.48      1969\n",
      "weighted avg       0.80      0.88      0.83      1969\n",
      "\n"
     ]
    }
   ],
   "source": [
    "from sklearn import metrics\n",
    "#We are going to run it for k = 1 to 15 and will be recording testing accuracy, plotting it, showing confusion matrix and classification report:\n",
    "Range_k = range(1,40)\n",
    "scores = {}\n",
    "scores_list = []\n",
    "for k in Range_k:\n",
    "   classifier = KNeighborsClassifier(n_neighbors=k)\n",
    "   classifier.fit(x_train, y_train)\n",
    "   y_pred = classifier.predict(x_test)\n",
    "   scores[k] = metrics.accuracy_score(y_test,y_pred)\n",
    "   scores_list.append(metrics.accuracy_score(y_test,y_pred))\n",
    "result = metrics.confusion_matrix(y_test, y_pred)\n",
    "print(\"Confusion Matrix:\")\n",
    "print(result)\n",
    "result1 = metrics.classification_report(y_test, y_pred)\n",
    "print(\"Classification Report:\",)\n",
    "print (result1)"
   ]
  },
  {
   "cell_type": "code",
   "execution_count": 100,
   "metadata": {},
   "outputs": [
    {
     "data": {
      "text/plain": [
       "Text(0, 0.5, 'Accuracy')"
      ]
     },
     "execution_count": 100,
     "metadata": {},
     "output_type": "execute_result"
    },
    {
     "data": {
      "image/png": "[encoded data removed]",
      "text/plain": [
       "<Figure size 432x288 with 1 Axes>"
      ]
     },
     "metadata": {
      "needs_background": "light"
     },
     "output_type": "display_data"
    }
   ],
   "source": [
    "%matplotlib inline\n",
    "import matplotlib.pyplot as plt\n",
    "plt.plot(Range_k,scores_list)\n",
    "plt.xlabel(\"Value of K\")\n",
    "plt.ylabel(\"Accuracy\")\n"
   ]
  },
  {
   "cell_type": "code",
   "execution_count": 108,
   "metadata": {},
   "outputs": [],
   "source": [
    "from sklearn.tree import DecisionTreeClassifier\n",
    "clfTreeClassifier = DecisionTreeClassifier()"
   ]
  },
  {
   "cell_type": "code",
   "execution_count": 109,
   "metadata": {},
   "outputs": [],
   "source": [
    "clfTreeClassifier = clfTreeClassifier.fit(x_train,y_train)"
   ]
  },
  {
   "cell_type": "code",
   "execution_count": 110,
   "metadata": {},
   "outputs": [
    {
     "name": "stdout",
     "output_type": "stream",
     "text": [
      "              precision    recall  f1-score   support\n",
      "\n",
      "           0       0.89      0.92      0.90      1740\n",
      "           1       0.22      0.18      0.20       229\n",
      "\n",
      "    accuracy                           0.83      1969\n",
      "   macro avg       0.56      0.55      0.55      1969\n",
      "weighted avg       0.82      0.83      0.82      1969\n",
      "\n",
      "[[1593  147]\n",
      " [ 188   41]]\n",
      "0.829862874555612\n"
     ]
    }
   ],
   "source": [
    "predi_clfTreeClassifier  = clfTreeClassifier .predict(x_test)\n",
    "print(classification_report(y_test, predi_clfTreeClassifier ))\n",
    "print(confusion_matrix(y_test, predi_clfTreeClassifier ))\n",
    "print(accuracy_score(y_test, predi_clfTreeClassifier ))"
   ]
  },
  {
   "cell_type": "code",
   "execution_count": 118,
   "metadata": {},
   "outputs": [],
   "source": [
    "from six import StringIO\n",
    "from sklearn.tree import export_graphviz\n",
    "from IPython.display import Image  \n",
    "import pydotplus\n",
    "\n",
    "dot_data = StringIO()\n",
    "export_graphviz(clfTreeClassifier, out_file=dot_data,  \n",
    "                filled=True, rounded=True,\n",
    "                special_characters=True,feature_names = clfTreeClassifier.feature_importances_,class_names=['0','1'])\n",
    "graph = pydotplus.graph_from_dot_data(dot_data.getvalue())  \n",
    "#graph.write_png('diabetes.png')\n"
   ]
  },
  {
   "cell_type": "code",
   "execution_count": 152,
   "metadata": {},
   "outputs": [],
   "source": [
    "#graph.write_png('diabetes.png')\n",
    "#Image(graph.create_png())"
   ]
  },
  {
   "cell_type": "code",
   "execution_count": null,
   "metadata": {},
   "outputs": [],
   "source": [
    "\n",
    "import sklearn\n",
    "from sklearn.preprocessing import StandardScaler, LabelEncoder\n",
    "from sklearn.model_selection import train_test_split\n",
    "from sklearn.discriminant_analysis import LinearDiscriminantAnalysis\n",
    "from sklearn.ensemble import RandomForestClassifier\n",
    "from sklearn.metrics import accuracy_score, confusion_matrix\n",
    "\n",
    "\n",
    "\n",
    "# divide the dataset into class and target variable\n",
    "\n",
    "\n",
    "# Preprocess the dataset and divide into train and test\n",
    "\n",
    "\n",
    "# apply Linear Discriminant Analysis\n",
    "lda = LinearDiscriminantAnalysis(n_components=2)\n",
    "\n",
    "# plot the scatterplot\n",
    "plt.scatter(\n",
    "\tX_train[:,0],X_train[:,1],c=y_train,cmap='rainbow',\n",
    "alpha=0.7,edgecolors='b'\n",
    ")\n",
    "\n",
    "# classify using random forest classifier\n",
    "classifier = RandomForestClassifier(max_depth=2, random_state=0)\n",
    "classifier.fit(X_train, y_train)\n",
    "y_pred = classifier.predict(X_test)\n",
    "\n",
    "# print the accuracy and confusion matrix\n",
    "\n"
   ]
  },
  {
   "cell_type": "code",
   "execution_count": 77,
   "metadata": {},
   "outputs": [],
   "source": [
    "from sklearn import svm"
   ]
  },
  {
   "cell_type": "code",
   "execution_count": 78,
   "metadata": {},
   "outputs": [],
   "source": [
    "clf_svm = svm.SVC(decision_function_shape='ovo')"
   ]
  },
  {
   "cell_type": "code",
   "execution_count": 79,
   "metadata": {},
   "outputs": [],
   "source": [
    "clf_svm = clf_svm.fit(x_train,y_train)"
   ]
  },
  {
   "cell_type": "code",
   "execution_count": 80,
   "metadata": {},
   "outputs": [
    {
     "name": "stdout",
     "output_type": "stream",
     "text": [
      "              precision    recall  f1-score   support\n",
      "\n",
      "           0       0.88      1.00      0.94      1740\n",
      "           1       0.00      0.00      0.00       229\n",
      "\n",
      "    accuracy                           0.88      1969\n",
      "   macro avg       0.44      0.50      0.47      1969\n",
      "weighted avg       0.78      0.88      0.83      1969\n",
      "\n",
      "[[1740    0]\n",
      " [ 229    0]]\n",
      "0.8836973082783138\n"
     ]
    },
    {
     "name": "stderr",
     "output_type": "stream",
     "text": [
      "/home/lbcb/anaconda3/lib/python3.8/site-packages/sklearn/metrics/_classification.py:1248: UndefinedMetricWarning: Precision and F-score are ill-defined and being set to 0.0 in labels with no predicted samples. Use `zero_division` parameter to control this behavior.\n",
      "  _warn_prf(average, modifier, msg_start, len(result))\n",
      "/home/lbcb/anaconda3/lib/python3.8/site-packages/sklearn/metrics/_classification.py:1248: UndefinedMetricWarning: Precision and F-score are ill-defined and being set to 0.0 in labels with no predicted samples. Use `zero_division` parameter to control this behavior.\n",
      "  _warn_prf(average, modifier, msg_start, len(result))\n",
      "/home/lbcb/anaconda3/lib/python3.8/site-packages/sklearn/metrics/_classification.py:1248: UndefinedMetricWarning: Precision and F-score are ill-defined and being set to 0.0 in labels with no predicted samples. Use `zero_division` parameter to control this behavior.\n",
      "  _warn_prf(average, modifier, msg_start, len(result))\n"
     ]
    }
   ],
   "source": [
    "predi_clf_svm  = clf_svm.predict(x_test)\n",
    "print(classification_report(y_test, predi_clf_svm ))\n",
    "print(confusion_matrix(y_test, predi_clf_svm ))\n",
    "print(accuracy_score(y_test, predi_clf_svm ))"
   ]
  },
  {
   "cell_type": "code",
   "execution_count": 83,
   "metadata": {},
   "outputs": [],
   "source": [
    "from sklearn.datasets import make_hastie_10_2\n",
    "from sklearn.ensemble import GradientBoostingClassifier"
   ]
  },
  {
   "cell_type": "code",
   "execution_count": 84,
   "metadata": {},
   "outputs": [],
   "source": [
    "clf_GradientBoostingClassifier = GradientBoostingClassifier(n_estimators=100, learning_rate=1.0, max_depth=1, random_state=7)"
   ]
  },
  {
   "cell_type": "code",
   "execution_count": 85,
   "metadata": {},
   "outputs": [],
   "source": [
    "clf_GradientBoostingClassifier = clf_GradientBoostingClassifier.fit(x_train,y_train)"
   ]
  },
  {
   "cell_type": "code",
   "execution_count": 86,
   "metadata": {},
   "outputs": [
    {
     "name": "stdout",
     "output_type": "stream",
     "text": [
      "              precision    recall  f1-score   support\n",
      "\n",
      "           0       0.89      0.98      0.93      1740\n",
      "           1       0.42      0.10      0.16       229\n",
      "\n",
      "    accuracy                           0.88      1969\n",
      "   macro avg       0.65      0.54      0.55      1969\n",
      "weighted avg       0.84      0.88      0.84      1969\n",
      "\n",
      "[[1709   31]\n",
      " [ 207   22]]\n",
      "0.8791264601320468\n"
     ]
    }
   ],
   "source": [
    "predi_clf_GradientBoostingClassifie  = clf_GradientBoostingClassifier.predict(x_test)\n",
    "print(classification_report(y_test, predi_clf_GradientBoostingClassifie ))\n",
    "print(confusion_matrix(y_test, predi_clf_GradientBoostingClassifie ))\n",
    "print(accuracy_score(y_test, predi_clf_GradientBoostingClassifie ))"
   ]
  },
  {
   "cell_type": "code",
   "execution_count": 87,
   "metadata": {},
   "outputs": [
    {
     "data": {
      "text/plain": [
       "HIV_POSITIVO                                                       0.418112\n",
       "End of BK_NEGATIVE                                                 0.220551\n",
       "COMORBIDITY_Malnutrition                                           0.032596\n",
       "COMORBIDITY_Cáncer                                                 0.023433\n",
       "EAPB_NUEVA EPS                                                     0.022466\n",
       "                                                                     ...   \n",
       "EAPB_FONDO DE PASIVO SOCIAL DE LA EMPRESA PUERTOS DE COLOMBIA .    0.000000\n",
       "EAPB_FONCOLPUERTOS                                                 0.000000\n",
       "EAPB_FIDUPREVISORA                                                 0.000000\n",
       "EAPB_FEVISALUD                                                     0.000000\n",
       "SEX_F                                                              0.000000\n",
       "Length: 182, dtype: float64"
      ]
     },
     "execution_count": 87,
     "metadata": {},
     "output_type": "execute_result"
    }
   ],
   "source": [
    "feature_clf_GradientBoostingClassifier = pd.Series(clf_GradientBoostingClassifier.feature_importances_,index=x_train.columns).sort_values(ascending=False)\n",
    "feature_clf_GradientBoostingClassifier"
   ]
  },
  {
   "cell_type": "code",
   "execution_count": 68,
   "metadata": {},
   "outputs": [],
   "source": [
    "from sklearn.neural_network import MLPClassifier"
   ]
  },
  {
   "cell_type": "code",
   "execution_count": 69,
   "metadata": {},
   "outputs": [],
   "source": [
    "classifier = MLPClassifier(hidden_layer_sizes=(150,100,50), max_iter=300,activation = 'relu',solver='adam',random_state=7)"
   ]
  },
  {
   "cell_type": "code",
   "execution_count": 70,
   "metadata": {},
   "outputs": [],
   "source": [
    "clf_MLPClassifier = classifier.fit(x_train,y_train)"
   ]
  },
  {
   "cell_type": "code",
   "execution_count": 71,
   "metadata": {},
   "outputs": [
    {
     "name": "stdout",
     "output_type": "stream",
     "text": [
      "              precision    recall  f1-score   support\n",
      "\n",
      "           0       0.90      0.92      0.91      1740\n",
      "           1       0.24      0.19      0.21       229\n",
      "\n",
      "    accuracy                           0.84      1969\n",
      "   macro avg       0.57      0.56      0.56      1969\n",
      "weighted avg       0.82      0.84      0.83      1969\n",
      "\n",
      "[[1606  134]\n",
      " [ 186   43]]\n",
      "0.8374809547993906\n"
     ]
    }
   ],
   "source": [
    "predi_clf_MLPClassifier = clf_MLPClassifier.predict(x_test)\n",
    "print(classification_report(y_test, predi_clf_MLPClassifier))\n",
    "print(confusion_matrix(y_test, predi_clf_MLPClassifier ))\n",
    "print(accuracy_score(y_test, predi_clf_MLPClassifier))"
   ]
  },
  {
   "cell_type": "code",
   "execution_count": 90,
   "metadata": {},
   "outputs": [],
   "source": [
    "#https://machinelearningmastery.com/stacking-ensemble-machine-learning-with-python/\n",
    "#https://insightlab.ufc.br/5-passos-para-criar-seu-1o-projeto-de-deep-learning-com-python-e-keras\n",
    "#https://github.com/fchollet/deep-learning-with-python-notebooks\n",
    "#https://scikit-learn.org/stable/modules/feature_selection.html#sequential-feature-selection\n"
   ]
  },
  {
   "cell_type": "code",
   "execution_count": 91,
   "metadata": {},
   "outputs": [],
   "source": [
    "from sklearn.naive_bayes import GaussianNB"
   ]
  },
  {
   "cell_type": "code",
   "execution_count": 96,
   "metadata": {},
   "outputs": [],
   "source": [
    "gnb = GaussianNB()"
   ]
  },
  {
   "cell_type": "code",
   "execution_count": 93,
   "metadata": {},
   "outputs": [],
   "source": [
    "clf_gnb  = gnb.fit(x_train,y_train)"
   ]
  },
  {
   "cell_type": "code",
   "execution_count": 94,
   "metadata": {},
   "outputs": [
    {
     "name": "stdout",
     "output_type": "stream",
     "text": [
      "              precision    recall  f1-score   support\n",
      "\n",
      "           0       0.99      0.35      0.51      1740\n",
      "           1       0.16      0.96      0.28       229\n",
      "\n",
      "    accuracy                           0.42      1969\n",
      "   macro avg       0.57      0.65      0.40      1969\n",
      "weighted avg       0.89      0.42      0.49      1969\n",
      "\n",
      "[[ 605 1135]\n",
      " [   9  220]]\n",
      "0.41899441340782123\n"
     ]
    }
   ],
   "source": [
    "predi_clf_gnb  = clf_gnb.predict(x_test)\n",
    "print(classification_report(y_test, predi_clf_gnb  ))\n",
    "print(confusion_matrix(y_test, predi_clf_gnb  ))\n",
    "print(accuracy_score(y_test, predi_clf_gnb  ))"
   ]
  },
  {
   "cell_type": "code",
   "execution_count": 7,
   "metadata": {},
   "outputs": [],
   "source": [
    "from mlxtend.classifier import StackingCVClassifier \n"
   ]
  },
  {
   "cell_type": "code",
   "execution_count": 99,
   "metadata": {},
   "outputs": [],
   "source": [
    "#https://www.datacamp.com/community/tutorials/ensemble-learning-python\n",
    "#https://colab.research.google.com/drive/1MEcl4W1Mr9_rRJEPcY2IHWppJq08bgc2?usp=sharing#scrollTo=EsN5ESLSljel\n",
    "knn = KNeighborsClassifier(n_neighbors=4)\n",
    "rf = RandomForestClassifier(n_estimators=1000)\n",
    "gnb = GaussianNB()\n",
    "lr = LogisticRegression()\n",
    "lf_GradientBoostingClassifier = GradientBoostingClassifier(n_estimators=100, learning_rate=1.0, max_depth=1, random_state=7)\n",
    "classifier = MLPClassifier(hidden_layer_sizes=(150,100,50), max_iter=300,activation = 'relu',solver='adam',random_state=7)\n",
    "clf_svm = svm.SVC(decision_function_shape='ovo')\n",
    "estimators = [knn,gnb,rf,lr,lf_GradientBoostingClassifier,classifier ]\n",
    "stack = StackingCVClassifier(classifiers = estimators,\n",
    "                            shuffle = False,\n",
    "                            use_probas = True,\n",
    "                            cv = 5,\n",
    "                            meta_classifier = LogisticRegression())"
   ]
  },
  {
   "cell_type": "code",
   "execution_count": 100,
   "metadata": {},
   "outputs": [
    {
     "data": {
      "text/plain": [
       "0.877602844083291"
      ]
     },
     "execution_count": 100,
     "metadata": {},
     "output_type": "execute_result"
    }
   ],
   "source": [
    "stack.fit(x_train, y_train)\n",
    "stack.score(x_test,y_test)"
   ]
  },
  {
   "cell_type": "code",
   "execution_count": 101,
   "metadata": {},
   "outputs": [
    {
     "name": "stdout",
     "output_type": "stream",
     "text": [
      "              precision    recall  f1-score   support\n",
      "\n",
      "           0       0.89      0.98      0.93      1740\n",
      "           1       0.39      0.10      0.15       229\n",
      "\n",
      "    accuracy                           0.88      1969\n",
      "   macro avg       0.64      0.54      0.54      1969\n",
      "weighted avg       0.83      0.88      0.84      1969\n",
      "\n",
      "[[1706   34]\n",
      " [ 207   22]]\n",
      "0.877602844083291\n"
     ]
    }
   ],
   "source": [
    "predi_clf_stack = stack.predict(x_test)\n",
    "print(classification_report(y_test, predi_clf_stack   ))\n",
    "print(confusion_matrix(y_test, predi_clf_stack   ))\n",
    "print(accuracy_score(y_test, predi_clf_stack  ))"
   ]
  },
  {
   "cell_type": "code",
   "execution_count": 108,
   "metadata": {},
   "outputs": [],
   "source": [
    "import numpy as np\n",
    "from keras.models import Sequential\n",
    "from keras.layers import Dense\n"
   ]
  },
  {
   "cell_type": "code",
   "execution_count": 110,
   "metadata": {},
   "outputs": [],
   "source": [
    "\n",
    "# definir o modelo com keras\n",
    "\n",
    "# inicializar o modelo sequencial\n",
    "\n",
    "model = Sequential()\n",
    "\n",
    "# inicializar a primeira camada, com 12 neurônios, 8 entradas utilizando a função ReLU\n",
    "\n",
    "model.add(Dense(12, input_dim=8, activation='relu'))\n",
    "\n",
    "# inicializar a segunda camada com 8 neurônios e a função ReLU\n",
    "\n",
    "model.add(Dense(8, activation='relu'))\n",
    "\n",
    "# inicializar a última camada (camada de saída) com um neurônio e a função Sigmoid\n",
    "\n",
    "model.add(Dense(1, activation='sigmoid'))\n"
   ]
  },
  {
   "cell_type": "code",
   "execution_count": 111,
   "metadata": {},
   "outputs": [],
   "source": [
    "# compile the keras model\n",
    "\n",
    "model.compile(loss='binary_crossentropy', optimizer='adam', metrics=['accuracy'])\n"
   ]
  },
  {
   "cell_type": "code",
   "execution_count": 115,
   "metadata": {},
   "outputs": [],
   "source": [
    "#model.fit(x_train, y_train, epochs=150, batch_size=10)\n",
    "#https://insightlab.ufc.br/5-passos-para-criar-seu-1o-projeto-de-deep-learning-com-python-e-keras"
   ]
  },
  {
   "cell_type": "code",
   "execution_count": 137,
   "metadata": {},
   "outputs": [
    {
     "name": "stderr",
     "output_type": "stream",
     "text": [
      "/home/lbcb/anaconda3/lib/python3.8/site-packages/mlxtend/plotting/decision_regions.py:243: UserWarning: No contour levels were found within the data range.\n",
      "  ax.contour(xx, yy, Z, cset.levels,\n",
      "/home/lbcb/anaconda3/lib/python3.8/site-packages/mlxtend/plotting/decision_regions.py:243: UserWarning: No contour levels were found within the data range.\n",
      "  ax.contour(xx, yy, Z, cset.levels,\n"
     ]
    },
    {
     "data": {
      "image/png": "[encoded data removed]",
      "text/plain": [
       "<Figure size 720x576 with 4 Axes>"
      ]
     },
     "metadata": {
      "needs_background": "light"
     },
     "output_type": "display_data"
    }
   ],
   "source": [
    "import matplotlib.pyplot as plt\n",
    "from mlxtend.plotting import plot_decision_regions\n",
    "import matplotlib.gridspec as gridspec\n",
    "import itertools\n",
    "\n",
    "gs = gridspec.GridSpec(2, 2)\n",
    "\n",
    "fig = plt.figure(figsize=(10,8))\n",
    "\n",
    "for clf, lab, grd in zip([knn, rf, gnb, stack], \n",
    "                         ['KNN', \n",
    "                          'Random Forest', \n",
    "                          'Naive Bayes',\n",
    "                          'StackingCVClassifier'],\n",
    "                          itertools.product([0, 1], repeat=2)):\n",
    "\n",
    "    clf.fit(x_train[[\"COMORBIDITY_smoking\",\"COMORBIDITY_VIH\"]], y_train)\n",
    "    ax = plt.subplot(gs[grd[0], grd[1]])\n",
    "    fig = plot_decision_regions(X=x_train[[\"COMORBIDITY_smoking\",\"COMORBIDITY_VIH\"]].to_numpy(), y=y_train.to_numpy(), clf=clf)\n",
    "    plt.title(lab)\n",
    "plt.show()"
   ]
  },
  {
   "cell_type": "code",
   "execution_count": 139,
   "metadata": {},
   "outputs": [],
   "source": [
    "from tensorflow.keras import models, layers, utils, backend as K\n",
    "import matplotlib.pyplot as plt\n",
    "import shap"
   ]
  },
  {
   "cell_type": "code",
   "execution_count": 140,
   "metadata": {},
   "outputs": [
    {
     "name": "stdout",
     "output_type": "stream",
     "text": [
      "Model: \"Perceptron\"\n",
      "_________________________________________________________________\n",
      " Layer (type)                Output Shape              Param #   \n",
      "=================================================================\n",
      " dense (Dense)               (None, 1)                 4         \n",
      "                                                                 \n",
      "=================================================================\n",
      "Total params: 4\n",
      "Trainable params: 4\n",
      "Non-trainable params: 0\n",
      "_________________________________________________________________\n"
     ]
    }
   ],
   "source": [
    "model = models.Sequential(name=\"Perceptron\", layers=[\n",
    "    layers.Dense(             #a fully connected layer\n",
    "          name=\"dense\",\n",
    "          input_dim=3,        #with 3 features as the input\n",
    "          units=1,            #and 1 node because we want 1 output\n",
    "          activation='linear' #f(x)=x\n",
    "    )\n",
    "])\n",
    "model.summary()\n",
    "#https://towardsdatascience.com/deep-learning-with-python-neural-networks-complete-tutorial-6b53c0b06af0"
   ]
  },
  {
   "cell_type": "code",
   "execution_count": 141,
   "metadata": {},
   "outputs": [],
   "source": [
    "# define the function\n",
    "import tensorflow as tf\n",
    "def binary_step_activation(x):\n",
    "    ##return 1 if x>0 else 0 \n",
    "    return K.switch(x>0, tf.math.divide(x,x), tf.math.multiply(x,0))\n",
    "\n",
    "# build the model\n",
    "model = models.Sequential(name=\"Perceptron\", layers=[\n",
    "      layers.Dense(             \n",
    "          name=\"dense\",\n",
    "          input_dim=3,        \n",
    "          units=1,            \n",
    "          activation=binary_step_activation\n",
    "      )\n",
    "])"
   ]
  },
  {
   "cell_type": "code",
   "execution_count": 142,
   "metadata": {},
   "outputs": [
    {
     "name": "stdout",
     "output_type": "stream",
     "text": [
      "Model: \"DeepNN\"\n",
      "_________________________________________________________________\n",
      " Layer (type)                Output Shape              Param #   \n",
      "=================================================================\n",
      " h1 (Dense)                  (None, 6)                 66        \n",
      "                                                                 \n",
      " drop1 (Dropout)             (None, 6)                 0         \n",
      "                                                                 \n",
      " h2 (Dense)                  (None, 3)                 21        \n",
      "                                                                 \n",
      " drop2 (Dropout)             (None, 3)                 0         \n",
      "                                                                 \n",
      " output (Dense)              (None, 1)                 4         \n",
      "                                                                 \n",
      "=================================================================\n",
      "Total params: 91\n",
      "Trainable params: 91\n",
      "Non-trainable params: 0\n",
      "_________________________________________________________________\n"
     ]
    }
   ],
   "source": [
    "n_features = 10\n",
    "model = models.Sequential(name=\"DeepNN\", layers=[\n",
    "    ### hidden layer 1\n",
    "    layers.Dense(name=\"h1\", input_dim=n_features,\n",
    "                 units=int(round((n_features+1)/2)), \n",
    "                 activation='relu'),\n",
    "    layers.Dropout(name=\"drop1\", rate=0.2),\n",
    "    \n",
    "    ### hidden layer 2\n",
    "    layers.Dense(name=\"h2\", units=int(round((n_features+1)/4)), \n",
    "                 activation='relu'),\n",
    "    layers.Dropout(name=\"drop2\", rate=0.2),\n",
    "    \n",
    "    ### layer output\n",
    "    layers.Dense(name=\"output\", units=1, activation='sigmoid')\n",
    "])\n",
    "model.summary()"
   ]
  },
  {
   "cell_type": "code",
   "execution_count": 143,
   "metadata": {},
   "outputs": [],
   "source": [
    "# Perceptron\n",
    "inputs = layers.Input(name=\"input\", shape=(3,))\n",
    "outputs = layers.Dense(name=\"output\", units=1, \n",
    "                       activation='linear')(inputs)\n",
    "model = models.Model(inputs=inputs, outputs=outputs, \n",
    "                     name=\"Perceptron\")\n",
    "\n",
    "# DeepNN\n",
    "### layer input\n",
    "inputs = layers.Input(name=\"input\", shape=(n_features,))\n",
    "### hidden layer 1\n",
    "h1 = layers.Dense(name=\"h1\", units=int(round((n_features+1)/2)), activation='relu')(inputs)\n",
    "h1 = layers.Dropout(name=\"drop1\", rate=0.2)(h1)\n",
    "### hidden layer 2\n",
    "h2 = layers.Dense(name=\"h2\", units=int(round((n_features+1)/4)), activation='relu')(h1)\n",
    "h2 = layers.Dropout(name=\"drop2\", rate=0.2)(h2)\n",
    "### layer output\n",
    "outputs = layers.Dense(name=\"output\", units=1, activation='sigmoid')(h2)\n",
    "model = models.Model(inputs=inputs, outputs=outputs, name=\"DeepNN\")\n"
   ]
  },
  {
   "cell_type": "code",
   "execution_count": 145,
   "metadata": {},
   "outputs": [],
   "source": [
    "'''\n",
    "Extract info for each layer in a keras model.\n",
    "'''\n",
    "def utils_nn_config(model):\n",
    "    lst_layers = []\n",
    "    if \"Sequential\" in str(model): #-> Sequential doesn't show the input layer\n",
    "        layer = model.layers[0]\n",
    "        lst_layers.append({\"name\":\"input\", \"in\":int(layer.input.shape[-1]), \"neurons\":0, \n",
    "                           \"out\":int(layer.input.shape[-1]), \"activation\":None,\n",
    "                           \"params\":0, \"bias\":0})\n",
    "    for layer in model.layers:\n",
    "        try:\n",
    "            dic_layer = {\"name\":layer.name, \"in\":int(layer.input.shape[-1]), \"neurons\":layer.units, \n",
    "                         \"out\":int(layer.output.shape[-1]), \"activation\":layer.get_config()[\"activation\"],\n",
    "                         \"params\":layer.get_weights()[0], \"bias\":layer.get_weights()[1]}\n",
    "        except:\n",
    "            dic_layer = {\"name\":layer.name, \"in\":int(layer.input.shape[-1]), \"neurons\":0, \n",
    "                         \"out\":int(layer.output.shape[-1]), \"activation\":None,\n",
    "                         \"params\":0, \"bias\":0}\n",
    "        lst_layers.append(dic_layer)\n",
    "    return lst_layers\n",
    "\n",
    "\n",
    "\n",
    "'''\n",
    "Plot the structure of a keras neural network.\n",
    "'''\n",
    "def visualize_nn(model, description=False, figsize=(10,8)):\n",
    "    ## get layers info\n",
    "    lst_layers = utils_nn_config(model)\n",
    "    layer_sizes = [layer[\"out\"] for layer in lst_layers]\n",
    "    \n",
    "    ## fig setup\n",
    "    fig = plt.figure(figsize=figsize)\n",
    "    ax = fig.gca()\n",
    "    ax.set(title=model.name)\n",
    "    ax.axis('off')\n",
    "    left, right, bottom, top = 0.1, 0.9, 0.1, 0.9\n",
    "    x_space = (right-left) / float(len(layer_sizes)-1)\n",
    "    y_space = (top-bottom) / float(max(layer_sizes))\n",
    "    p = 0.025\n",
    "    \n",
    "    ## nodes\n",
    "    for i,n in enumerate(layer_sizes):\n",
    "        top_on_layer = y_space*(n-1)/2.0 + (top+bottom)/2.0\n",
    "        layer = lst_layers[i]\n",
    "        color = \"green\" if i in [0, len(layer_sizes)-1] else \"blue\"\n",
    "        color = \"red\" if (layer['neurons'] == 0) and (i > 0) else color\n",
    "        \n",
    "        ### add description\n",
    "        if (description is True):\n",
    "            d = i if i == 0 else i-0.5\n",
    "            if layer['activation'] is None:\n",
    "                plt.text(x=left+d*x_space, y=top, fontsize=10, color=color, s=layer[\"name\"].upper())\n",
    "            else:\n",
    "                plt.text(x=left+d*x_space, y=top, fontsize=10, color=color, s=layer[\"name\"].upper())\n",
    "                plt.text(x=left+d*x_space, y=top-p, fontsize=10, color=color, s=layer['activation']+\" (\")\n",
    "                plt.text(x=left+d*x_space, y=top-2*p, fontsize=10, color=color, s=\"Σ\"+str(layer['in'])+\"[X*w]+b\")\n",
    "                out = \" Y\"  if i == len(layer_sizes)-1 else \" out\"\n",
    "                plt.text(x=left+d*x_space, y=top-3*p, fontsize=10, color=color, s=\") = \"+str(layer['neurons'])+out)\n",
    "        \n",
    "        ### circles\n",
    "        for m in range(n):\n",
    "            color = \"limegreen\" if color == \"green\" else color\n",
    "            circle = plt.Circle(xy=(left+i*x_space, top_on_layer-m*y_space-4*p), radius=y_space/4.0, color=color, ec='k', zorder=4)\n",
    "            ax.add_artist(circle)\n",
    "            \n",
    "            ### add text\n",
    "            if i == 0:\n",
    "                plt.text(x=left-4*p, y=top_on_layer-m*y_space-4*p, fontsize=10, s=r'$X_{'+str(m+1)+'}$')\n",
    "            elif i == len(layer_sizes)-1:\n",
    "                plt.text(x=right+4*p, y=top_on_layer-m*y_space-4*p, fontsize=10, s=r'$y_{'+str(m+1)+'}$')\n",
    "            else:\n",
    "                plt.text(x=left+i*x_space+p, y=top_on_layer-m*y_space+(y_space/8.+0.01*y_space)-4*p, fontsize=10, s=r'$H_{'+str(m+1)+'}$')\n",
    "    \n",
    "    ## links\n",
    "    for i, (n_a, n_b) in enumerate(zip(layer_sizes[:-1], layer_sizes[1:])):\n",
    "        layer = lst_layers[i+1]\n",
    "        color = \"green\" if i == len(layer_sizes)-2 else \"blue\"\n",
    "        color = \"red\" if layer['neurons'] == 0 else color\n",
    "        layer_top_a = y_space*(n_a-1)/2. + (top+bottom)/2. -4*p\n",
    "        layer_top_b = y_space*(n_b-1)/2. + (top+bottom)/2. -4*p\n",
    "        for m in range(n_a):\n",
    "            for o in range(n_b):\n",
    "                line = plt.Line2D([i*x_space+left, (i+1)*x_space+left], \n",
    "                                  [layer_top_a-m*y_space, layer_top_b-o*y_space], \n",
    "                                  c=color, alpha=0.5)\n",
    "                if layer['activation'] is None:\n",
    "                    if o == m:\n",
    "                        ax.add_artist(line)\n",
    "                else:\n",
    "                    ax.add_artist(line)\n",
    "    plt.show()"
   ]
  },
  {
   "cell_type": "code",
   "execution_count": 146,
   "metadata": {},
   "outputs": [
    {
     "data": {
      "image/png": "[encoded data removed]",
      "text/plain": [
       "<Figure size 720x576 with 1 Axes>"
      ]
     },
     "metadata": {
      "needs_background": "light"
     },
     "output_type": "display_data"
    }
   ],
   "source": [
    "visualize_nn(model, description=True, figsize=(10,8))"
   ]
  },
  {
   "cell_type": "code",
   "execution_count": 149,
   "metadata": {},
   "outputs": [
    {
     "data": {
      "image/png": "[encoded data removed]",
      "text/plain": [
       "<IPython.core.display.Image object>"
      ]
     },
     "execution_count": 149,
     "metadata": {},
     "output_type": "execute_result"
    }
   ],
   "source": [
    "utils.plot_model(model, to_file='model.png', show_shapes=True, show_layer_names=True)"
   ]
  },
  {
   "cell_type": "code",
   "execution_count": 150,
   "metadata": {},
   "outputs": [],
   "source": [
    "# define metrics\n",
    "def Recall(x_train, y_train):\n",
    "    true_positives = K.sum(K.round(K.clip(x_train * y_train, 0, 1)))\n",
    "    possible_positives = K.sum(K.round(K.clip(x_train, 0, 1)))\n",
    "    recall = true_positives / (possible_positives + K.epsilon())\n",
    "    return recall\n",
    "\n",
    "def Precision(x_train, y_train):\n",
    "    true_positives = K.sum(K.round(K.clip(x_train * y_train, 0, 1)))\n",
    "    predicted_positives = K.sum(K.round(K.clip(y_train, 0, 1)))\n",
    "    precision = true_positives / (predicted_positives + K.epsilon())\n",
    "    return precision\n",
    "\n",
    "def F1(x_train, y_train):\n",
    "    precision = Precision(x_train, y_train)\n",
    "    recall = Recall(x_train, y_train)\n",
    "    return 2*((precision*recall)/(precision+recall+K.epsilon()))\n",
    "\n",
    "# compile the neural network\n",
    "model.compile(optimizer='adam', loss='binary_crossentropy', \n",
    "              metrics=['accuracy',F1])"
   ]
  },
  {
   "cell_type": "code",
   "execution_count": 151,
   "metadata": {},
   "outputs": [],
   "source": [
    "# first neural network with keras tutorial\n",
    "from numpy import loadtxt\n",
    "from keras.models import Sequential\n",
    "from keras.layers import Dense\n"
   ]
  },
  {
   "cell_type": "code",
   "execution_count": 152,
   "metadata": {},
   "outputs": [],
   "source": [
    "model = Sequential()\n",
    "model.add(Dense(12, input_dim=8, activation='relu'))\n",
    "model.add(Dense(8, activation='relu'))\n",
    "model.add(Dense(1, activation='sigmoid'))"
   ]
  },
  {
   "cell_type": "code",
   "execution_count": 153,
   "metadata": {},
   "outputs": [],
   "source": [
    "# compile the keras model\n",
    "model.compile(loss='binary_crossentropy', optimizer='adam', metrics=['accuracy'])\n"
   ]
  },
  {
   "cell_type": "code",
   "execution_count": 157,
   "metadata": {},
   "outputs": [],
   "source": [
    "\n",
    "# fit the keras model on the dataset\n",
    "#model.fit(x_train, y_train)\n",
    "#https://machinelearningmastery.com/tutorial-first-neural-network-python-keras/\n",
    "#https://github.com/mdipietro09/DataScience_ArtificialIntelligence_Utils/blob/master/machine_learning/example_regression.ipynb\n",
    "#https://towardsdatascience.com/all-machine-learning-algorithms-you-should-know-in-2022-db5b4ccdf32f"
   ]
  },
  {
   "cell_type": "code",
   "execution_count": null,
   "metadata": {},
   "outputs": [],
   "source": []
  }
 ],
 "metadata": {
  "kernelspec": {
   "display_name": "Python 3 (ipykernel)",
   "language": "python",
   "name": "python3"
  },
  "language_info": {
   "codemirror_mode": {
    "name": "ipython",
    "version": 3
   },
   "file_extension": ".py",
   "mimetype": "text/x-python",
   "name": "python",
   "nbconvert_exporter": "python",
   "pygments_lexer": "ipython3",
   "version": "3.9.12"
  },
  "toc": {
   "base_numbering": 1,
   "nav_menu": {},
   "number_sections": true,
   "sideBar": true,
   "skip_h1_title": false,
   "title_cell": "Table of Contents",
   "title_sidebar": "Contents",
   "toc_cell": false,
   "toc_position": {},
   "toc_section_display": true,
   "toc_window_display": false
  }
 },
 "nbformat": 4,
 "nbformat_minor": 4
}
